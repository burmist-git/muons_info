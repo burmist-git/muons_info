{
 "cells": [
  {
   "cell_type": "code",
   "execution_count": 1,
   "id": "48deaf9d",
   "metadata": {},
   "outputs": [],
   "source": [
    "import pandas as pd\n",
    "import numpy as np\n",
    "import glob\n",
    "import gc\n",
    "import matplotlib.pyplot as plt\n",
    "from matplotlib import colors\n",
    "from astropy.coordinates import SkyCoord, AltAz, angular_separation\n",
    "import astropy.units as u\n",
    "from scipy.stats import binned_statistic\n",
    "from scipy.signal import lombscargle\n",
    "import h5py\n",
    "from astropy.io import fits\n",
    "from astropy.table import Table"
   ]
  },
  {
   "cell_type": "code",
   "execution_count": 2,
   "id": "f44cef27-9e5a-4bc8-8f1b-74f94246f494",
   "metadata": {},
   "outputs": [],
   "source": [
    "h5f = h5py.File('../OSA_DL1DataCheck_LongTerm/20241204/DL1_datacheck_20241204.h5','r+')"
   ]
  },
  {
   "cell_type": "code",
   "execution_count": 3,
   "id": "4c79158a-505b-44e0-bf8f-fc1298396842",
   "metadata": {},
   "outputs": [
    {
     "name": "stdout",
     "output_type": "stream",
     "text": [
      "Keys: <KeysViewHDF5 ['cosmics', 'cosmics_intensity_spectrum', 'flatfield', 'pedestals', 'pixwise_runsummary', 'pixwise_runsummary_no_stars', 'runsummary']>\n"
     ]
    }
   ],
   "source": [
    "print(\"Keys: %s\" % h5f.keys())"
   ]
  },
  {
   "cell_type": "code",
   "execution_count": 4,
   "id": "c34d4bba-654d-483d-ad00-0a73d7b36197",
   "metadata": {},
   "outputs": [],
   "source": [
    "df=pd.read_hdf('../OSA_DL1DataCheck_LongTerm/20241204/DL1_datacheck_20241204.h5', 'cosmics_intensity_spectrum') "
   ]
  },
  {
   "cell_type": "code",
   "execution_count": 5,
   "id": "2e11f80e-fea6-45d5-9932-8856e32eb13a",
   "metadata": {},
   "outputs": [
    {
     "data": {
      "text/html": [
       "<div>\n",
       "<style scoped>\n",
       "    .dataframe tbody tr th:only-of-type {\n",
       "        vertical-align: middle;\n",
       "    }\n",
       "\n",
       "    .dataframe tbody tr th {\n",
       "        vertical-align: top;\n",
       "    }\n",
       "\n",
       "    .dataframe thead th {\n",
       "        text-align: right;\n",
       "    }\n",
       "</style>\n",
       "<table border=\"1\" class=\"dataframe\">\n",
       "  <thead>\n",
       "    <tr style=\"text-align: right;\">\n",
       "      <th></th>\n",
       "      <th>yyyymmdd</th>\n",
       "      <th>ra_tel</th>\n",
       "      <th>dec_tel</th>\n",
       "      <th>cos_zenith</th>\n",
       "      <th>az_tel</th>\n",
       "      <th>runnumber</th>\n",
       "      <th>subrun</th>\n",
       "      <th>time</th>\n",
       "      <th>elapsed_time</th>\n",
       "      <th>corrected_elapsed_time</th>\n",
       "      <th>...</th>\n",
       "      <th>ZD_corrected_delta_cosmics_rate_at_422_pe</th>\n",
       "      <th>cosmics_spectral_index</th>\n",
       "      <th>delta_cosmics_spectral_index</th>\n",
       "      <th>ZD_corrected_cosmics_spectral_index</th>\n",
       "      <th>intensity_spectrum_fit_p_value</th>\n",
       "      <th>intensity_at_reference_rate</th>\n",
       "      <th>light_yield</th>\n",
       "      <th>diffuse_nsb_std</th>\n",
       "      <th>num_star_affected_pixels</th>\n",
       "      <th>anomalous_low_intensity_peak</th>\n",
       "    </tr>\n",
       "  </thead>\n",
       "  <tbody>\n",
       "    <tr>\n",
       "      <th>0</th>\n",
       "      <td>20241204</td>\n",
       "      <td>41.064501</td>\n",
       "      <td>-0.005449</td>\n",
       "      <td>0.797653</td>\n",
       "      <td>2.378335</td>\n",
       "      <td>20041</td>\n",
       "      <td>0</td>\n",
       "      <td>1.733347e+09</td>\n",
       "      <td>8.833271</td>\n",
       "      <td>8.833271</td>\n",
       "      <td>...</td>\n",
       "      <td>0.023203</td>\n",
       "      <td>-2.346833</td>\n",
       "      <td>0.084365</td>\n",
       "      <td>-2.269334</td>\n",
       "      <td>0.616953</td>\n",
       "      <td>413.529390</td>\n",
       "      <td>0.964398</td>\n",
       "      <td>1.749114</td>\n",
       "      <td>53</td>\n",
       "      <td>False</td>\n",
       "    </tr>\n",
       "    <tr>\n",
       "      <th>1</th>\n",
       "      <td>20241204</td>\n",
       "      <td>41.064550</td>\n",
       "      <td>-0.005423</td>\n",
       "      <td>0.797890</td>\n",
       "      <td>2.379190</td>\n",
       "      <td>20041</td>\n",
       "      <td>1</td>\n",
       "      <td>1.733347e+09</td>\n",
       "      <td>8.942268</td>\n",
       "      <td>8.942268</td>\n",
       "      <td>...</td>\n",
       "      <td>0.031848</td>\n",
       "      <td>-2.312604</td>\n",
       "      <td>0.112746</td>\n",
       "      <td>-2.235212</td>\n",
       "      <td>0.345918</td>\n",
       "      <td>419.273428</td>\n",
       "      <td>0.988339</td>\n",
       "      <td>1.750060</td>\n",
       "      <td>52</td>\n",
       "      <td>False</td>\n",
       "    </tr>\n",
       "    <tr>\n",
       "      <th>2</th>\n",
       "      <td>20241204</td>\n",
       "      <td>41.064651</td>\n",
       "      <td>-0.005396</td>\n",
       "      <td>0.798127</td>\n",
       "      <td>2.380047</td>\n",
       "      <td>20041</td>\n",
       "      <td>2</td>\n",
       "      <td>1.733347e+09</td>\n",
       "      <td>8.908253</td>\n",
       "      <td>8.908253</td>\n",
       "      <td>...</td>\n",
       "      <td>0.040850</td>\n",
       "      <td>-2.558089</td>\n",
       "      <td>0.145635</td>\n",
       "      <td>-2.480804</td>\n",
       "      <td>0.139576</td>\n",
       "      <td>416.534656</td>\n",
       "      <td>0.978398</td>\n",
       "      <td>1.747256</td>\n",
       "      <td>52</td>\n",
       "      <td>False</td>\n",
       "    </tr>\n",
       "    <tr>\n",
       "      <th>3</th>\n",
       "      <td>20241204</td>\n",
       "      <td>41.064241</td>\n",
       "      <td>-0.005642</td>\n",
       "      <td>0.798366</td>\n",
       "      <td>2.380929</td>\n",
       "      <td>20041</td>\n",
       "      <td>3</td>\n",
       "      <td>1.733347e+09</td>\n",
       "      <td>9.071558</td>\n",
       "      <td>9.071558</td>\n",
       "      <td>...</td>\n",
       "      <td>0.039752</td>\n",
       "      <td>-2.381962</td>\n",
       "      <td>0.138082</td>\n",
       "      <td>-2.304785</td>\n",
       "      <td>0.159753</td>\n",
       "      <td>421.411926</td>\n",
       "      <td>0.997540</td>\n",
       "      <td>1.748930</td>\n",
       "      <td>52</td>\n",
       "      <td>False</td>\n",
       "    </tr>\n",
       "    <tr>\n",
       "      <th>4</th>\n",
       "      <td>20241204</td>\n",
       "      <td>41.064371</td>\n",
       "      <td>-0.005578</td>\n",
       "      <td>0.798606</td>\n",
       "      <td>2.381799</td>\n",
       "      <td>20041</td>\n",
       "      <td>4</td>\n",
       "      <td>1.733347e+09</td>\n",
       "      <td>9.035974</td>\n",
       "      <td>9.035974</td>\n",
       "      <td>...</td>\n",
       "      <td>0.010465</td>\n",
       "      <td>-2.518380</td>\n",
       "      <td>0.037143</td>\n",
       "      <td>-2.441311</td>\n",
       "      <td>0.948581</td>\n",
       "      <td>419.411836</td>\n",
       "      <td>0.989634</td>\n",
       "      <td>1.748351</td>\n",
       "      <td>52</td>\n",
       "      <td>False</td>\n",
       "    </tr>\n",
       "    <tr>\n",
       "      <th>...</th>\n",
       "      <td>...</td>\n",
       "      <td>...</td>\n",
       "      <td>...</td>\n",
       "      <td>...</td>\n",
       "      <td>...</td>\n",
       "      <td>...</td>\n",
       "      <td>...</td>\n",
       "      <td>...</td>\n",
       "      <td>...</td>\n",
       "      <td>...</td>\n",
       "      <td>...</td>\n",
       "      <td>...</td>\n",
       "      <td>...</td>\n",
       "      <td>...</td>\n",
       "      <td>...</td>\n",
       "      <td>...</td>\n",
       "      <td>...</td>\n",
       "      <td>...</td>\n",
       "      <td>...</td>\n",
       "      <td>...</td>\n",
       "      <td>...</td>\n",
       "    </tr>\n",
       "    <tr>\n",
       "      <th>1533</th>\n",
       "      <td>20241204</td>\n",
       "      <td>165.900177</td>\n",
       "      <td>-23.874309</td>\n",
       "      <td>0.569933</td>\n",
       "      <td>2.809891</td>\n",
       "      <td>20059</td>\n",
       "      <td>82</td>\n",
       "      <td>1.733379e+09</td>\n",
       "      <td>8.917266</td>\n",
       "      <td>8.917266</td>\n",
       "      <td>...</td>\n",
       "      <td>0.026160</td>\n",
       "      <td>-2.277102</td>\n",
       "      <td>0.139894</td>\n",
       "      <td>-2.079076</td>\n",
       "      <td>0.475638</td>\n",
       "      <td>345.998566</td>\n",
       "      <td>0.682093</td>\n",
       "      <td>2.024050</td>\n",
       "      <td>10</td>\n",
       "      <td>False</td>\n",
       "    </tr>\n",
       "    <tr>\n",
       "      <th>1534</th>\n",
       "      <td>20241204</td>\n",
       "      <td>165.900340</td>\n",
       "      <td>-23.874153</td>\n",
       "      <td>0.570085</td>\n",
       "      <td>2.810564</td>\n",
       "      <td>20059</td>\n",
       "      <td>83</td>\n",
       "      <td>1.733379e+09</td>\n",
       "      <td>8.726165</td>\n",
       "      <td>8.726165</td>\n",
       "      <td>...</td>\n",
       "      <td>0.035143</td>\n",
       "      <td>-2.740804</td>\n",
       "      <td>0.187190</td>\n",
       "      <td>-2.542870</td>\n",
       "      <td>0.218178</td>\n",
       "      <td>355.869430</td>\n",
       "      <td>0.755095</td>\n",
       "      <td>2.022998</td>\n",
       "      <td>10</td>\n",
       "      <td>False</td>\n",
       "    </tr>\n",
       "    <tr>\n",
       "      <th>1535</th>\n",
       "      <td>20241204</td>\n",
       "      <td>165.900007</td>\n",
       "      <td>-23.874303</td>\n",
       "      <td>0.570231</td>\n",
       "      <td>2.811233</td>\n",
       "      <td>20059</td>\n",
       "      <td>84</td>\n",
       "      <td>1.733379e+09</td>\n",
       "      <td>8.446649</td>\n",
       "      <td>8.446649</td>\n",
       "      <td>...</td>\n",
       "      <td>0.035584</td>\n",
       "      <td>-2.556127</td>\n",
       "      <td>0.191892</td>\n",
       "      <td>-2.358282</td>\n",
       "      <td>0.220792</td>\n",
       "      <td>351.840190</td>\n",
       "      <td>0.729282</td>\n",
       "      <td>2.027673</td>\n",
       "      <td>10</td>\n",
       "      <td>False</td>\n",
       "    </tr>\n",
       "    <tr>\n",
       "      <th>1536</th>\n",
       "      <td>20241204</td>\n",
       "      <td>165.899982</td>\n",
       "      <td>-23.874326</td>\n",
       "      <td>0.570373</td>\n",
       "      <td>2.811877</td>\n",
       "      <td>20059</td>\n",
       "      <td>85</td>\n",
       "      <td>1.733379e+09</td>\n",
       "      <td>8.191182</td>\n",
       "      <td>8.191182</td>\n",
       "      <td>...</td>\n",
       "      <td>0.031798</td>\n",
       "      <td>-2.451987</td>\n",
       "      <td>0.166725</td>\n",
       "      <td>-2.254227</td>\n",
       "      <td>0.333453</td>\n",
       "      <td>350.324763</td>\n",
       "      <td>0.715654</td>\n",
       "      <td>2.034760</td>\n",
       "      <td>10</td>\n",
       "      <td>False</td>\n",
       "    </tr>\n",
       "    <tr>\n",
       "      <th>1537</th>\n",
       "      <td>20241204</td>\n",
       "      <td>165.899856</td>\n",
       "      <td>-23.874440</td>\n",
       "      <td>0.570467</td>\n",
       "      <td>2.812312</td>\n",
       "      <td>20059</td>\n",
       "      <td>86</td>\n",
       "      <td>1.733379e+09</td>\n",
       "      <td>3.093428</td>\n",
       "      <td>3.093428</td>\n",
       "      <td>...</td>\n",
       "      <td>0.029837</td>\n",
       "      <td>-2.939360</td>\n",
       "      <td>0.159744</td>\n",
       "      <td>-2.741658</td>\n",
       "      <td>0.766115</td>\n",
       "      <td>358.064384</td>\n",
       "      <td>0.772114</td>\n",
       "      <td>2.032805</td>\n",
       "      <td>10</td>\n",
       "      <td>False</td>\n",
       "    </tr>\n",
       "  </tbody>\n",
       "</table>\n",
       "<p>1538 rows × 31 columns</p>\n",
       "</div>"
      ],
      "text/plain": [
       "      yyyymmdd      ra_tel    dec_tel  cos_zenith    az_tel  runnumber  \\\n",
       "0     20241204   41.064501  -0.005449    0.797653  2.378335      20041   \n",
       "1     20241204   41.064550  -0.005423    0.797890  2.379190      20041   \n",
       "2     20241204   41.064651  -0.005396    0.798127  2.380047      20041   \n",
       "3     20241204   41.064241  -0.005642    0.798366  2.380929      20041   \n",
       "4     20241204   41.064371  -0.005578    0.798606  2.381799      20041   \n",
       "...        ...         ...        ...         ...       ...        ...   \n",
       "1533  20241204  165.900177 -23.874309    0.569933  2.809891      20059   \n",
       "1534  20241204  165.900340 -23.874153    0.570085  2.810564      20059   \n",
       "1535  20241204  165.900007 -23.874303    0.570231  2.811233      20059   \n",
       "1536  20241204  165.899982 -23.874326    0.570373  2.811877      20059   \n",
       "1537  20241204  165.899856 -23.874440    0.570467  2.812312      20059   \n",
       "\n",
       "      subrun          time  elapsed_time  corrected_elapsed_time  ...  \\\n",
       "0          0  1.733347e+09      8.833271                8.833271  ...   \n",
       "1          1  1.733347e+09      8.942268                8.942268  ...   \n",
       "2          2  1.733347e+09      8.908253                8.908253  ...   \n",
       "3          3  1.733347e+09      9.071558                9.071558  ...   \n",
       "4          4  1.733347e+09      9.035974                9.035974  ...   \n",
       "...      ...           ...           ...                     ...  ...   \n",
       "1533      82  1.733379e+09      8.917266                8.917266  ...   \n",
       "1534      83  1.733379e+09      8.726165                8.726165  ...   \n",
       "1535      84  1.733379e+09      8.446649                8.446649  ...   \n",
       "1536      85  1.733379e+09      8.191182                8.191182  ...   \n",
       "1537      86  1.733379e+09      3.093428                3.093428  ...   \n",
       "\n",
       "      ZD_corrected_delta_cosmics_rate_at_422_pe  cosmics_spectral_index  \\\n",
       "0                                      0.023203               -2.346833   \n",
       "1                                      0.031848               -2.312604   \n",
       "2                                      0.040850               -2.558089   \n",
       "3                                      0.039752               -2.381962   \n",
       "4                                      0.010465               -2.518380   \n",
       "...                                         ...                     ...   \n",
       "1533                                   0.026160               -2.277102   \n",
       "1534                                   0.035143               -2.740804   \n",
       "1535                                   0.035584               -2.556127   \n",
       "1536                                   0.031798               -2.451987   \n",
       "1537                                   0.029837               -2.939360   \n",
       "\n",
       "      delta_cosmics_spectral_index  ZD_corrected_cosmics_spectral_index  \\\n",
       "0                         0.084365                            -2.269334   \n",
       "1                         0.112746                            -2.235212   \n",
       "2                         0.145635                            -2.480804   \n",
       "3                         0.138082                            -2.304785   \n",
       "4                         0.037143                            -2.441311   \n",
       "...                            ...                                  ...   \n",
       "1533                      0.139894                            -2.079076   \n",
       "1534                      0.187190                            -2.542870   \n",
       "1535                      0.191892                            -2.358282   \n",
       "1536                      0.166725                            -2.254227   \n",
       "1537                      0.159744                            -2.741658   \n",
       "\n",
       "      intensity_spectrum_fit_p_value  intensity_at_reference_rate  \\\n",
       "0                           0.616953                   413.529390   \n",
       "1                           0.345918                   419.273428   \n",
       "2                           0.139576                   416.534656   \n",
       "3                           0.159753                   421.411926   \n",
       "4                           0.948581                   419.411836   \n",
       "...                              ...                          ...   \n",
       "1533                        0.475638                   345.998566   \n",
       "1534                        0.218178                   355.869430   \n",
       "1535                        0.220792                   351.840190   \n",
       "1536                        0.333453                   350.324763   \n",
       "1537                        0.766115                   358.064384   \n",
       "\n",
       "      light_yield  diffuse_nsb_std  num_star_affected_pixels  \\\n",
       "0        0.964398         1.749114                        53   \n",
       "1        0.988339         1.750060                        52   \n",
       "2        0.978398         1.747256                        52   \n",
       "3        0.997540         1.748930                        52   \n",
       "4        0.989634         1.748351                        52   \n",
       "...           ...              ...                       ...   \n",
       "1533     0.682093         2.024050                        10   \n",
       "1534     0.755095         2.022998                        10   \n",
       "1535     0.729282         2.027673                        10   \n",
       "1536     0.715654         2.034760                        10   \n",
       "1537     0.772114         2.032805                        10   \n",
       "\n",
       "      anomalous_low_intensity_peak  \n",
       "0                            False  \n",
       "1                            False  \n",
       "2                            False  \n",
       "3                            False  \n",
       "4                            False  \n",
       "...                            ...  \n",
       "1533                         False  \n",
       "1534                         False  \n",
       "1535                         False  \n",
       "1536                         False  \n",
       "1537                         False  \n",
       "\n",
       "[1538 rows x 31 columns]"
      ]
     },
     "execution_count": 5,
     "metadata": {},
     "output_type": "execute_result"
    }
   ],
   "source": [
    "df"
   ]
  },
  {
   "cell_type": "code",
   "execution_count": 14,
   "id": "18f90352-dc69-4d1c-a3f1-c4dc20546337",
   "metadata": {},
   "outputs": [
    {
     "data": {
      "text/plain": [
       "Index(['yyyymmdd', 'ra_tel', 'dec_tel', 'cos_zenith', 'az_tel', 'runnumber',\n",
       "       'subrun', 'time', 'elapsed_time', 'corrected_elapsed_time',\n",
       "       'delta_t_exp_index', 'cosmics_rate', 'cosmics_cleaned_rate',\n",
       "       'intensity_at_half_peak_rate', 'intensity_at_peak_rate',\n",
       "       'ZD_corrected_intensity_at_half_peak_rate', 'cosmics_peak_rate',\n",
       "       'ZD_corrected_cosmics_peak_rate', 'cosmics_rate_at_422_pe',\n",
       "       'delta_cosmics_rate_at_422_pe', 'ZD_corrected_cosmics_rate_at_422_pe',\n",
       "       'ZD_corrected_delta_cosmics_rate_at_422_pe', 'cosmics_spectral_index',\n",
       "       'delta_cosmics_spectral_index', 'ZD_corrected_cosmics_spectral_index',\n",
       "       'intensity_spectrum_fit_p_value', 'intensity_at_reference_rate',\n",
       "       'light_yield', 'diffuse_nsb_std', 'num_star_affected_pixels',\n",
       "       'anomalous_low_intensity_peak'],\n",
       "      dtype='object')"
      ]
     },
     "execution_count": 14,
     "metadata": {},
     "output_type": "execute_result"
    }
   ],
   "source": [
    "df.keys()"
   ]
  },
  {
   "cell_type": "code",
   "execution_count": 6,
   "id": "38ee67da-667e-4e66-b029-4306a42eafbe",
   "metadata": {},
   "outputs": [
    {
     "data": {
      "image/png": "[encoded data removed]",
      "text/plain": [
       "<Figure size 640x480 with 1 Axes>"
      ]
     },
     "metadata": {},
     "output_type": "display_data"
    }
   ],
   "source": [
    "ax = df['diffuse_nsb_std'].hist(bins=400)\n",
    "#ax.set_xlim(1,10)\n",
    "ax.set_yscale(\"log\")"
   ]
  },
  {
   "cell_type": "code",
   "execution_count": 6,
   "id": "44d582aa-9078-456c-9f23-aedbd55ec245",
   "metadata": {},
   "outputs": [],
   "source": [
    "dat = Table.read('../muons_DL1_tar_gz/fefs/aswg/data/real/DL1/20231006/v0.10/muons/muons_LST-1.Run14932.fits', format='fits')\n",
    "df_muons = dat.to_pandas()"
   ]
  },
  {
   "cell_type": "code",
   "execution_count": 7,
   "id": "1493c57a-baa7-4587-acf9-1e2f80ac25a8",
   "metadata": {},
   "outputs": [
    {
     "data": {
      "text/plain": [
       "Index(['event_id', 'event_time', 'mc_energy', 'ring_size', 'size_outside',\n",
       "       'ring_center_x', 'ring_center_y', 'ring_radius', 'ring_width',\n",
       "       'good_ring', 'muon_efficiency', 'ring_containment', 'ring_completeness',\n",
       "       'impact_parameter', 'impact_x_array', 'impact_y_array', 'radial_stdev',\n",
       "       'radial_skewness', 'radial_excess_kurtosis', 'num_pixels_in_ring',\n",
       "       'mean_pixel_charge_around_ring', 'hg_peak_sample', 'lg_peak_sample'],\n",
       "      dtype='object')"
      ]
     },
     "execution_count": 7,
     "metadata": {},
     "output_type": "execute_result"
    }
   ],
   "source": [
    "df_muons.keys()"
   ]
  },
  {
   "cell_type": "code",
   "execution_count": 8,
   "id": "9399ce89-e224-487c-bb00-3b51b2d273a1",
   "metadata": {},
   "outputs": [
    {
     "data": {
      "text/html": [
       "<div>\n",
       "<style scoped>\n",
       "    .dataframe tbody tr th:only-of-type {\n",
       "        vertical-align: middle;\n",
       "    }\n",
       "\n",
       "    .dataframe tbody tr th {\n",
       "        vertical-align: top;\n",
       "    }\n",
       "\n",
       "    .dataframe thead th {\n",
       "        text-align: right;\n",
       "    }\n",
       "</style>\n",
       "<table border=\"1\" class=\"dataframe\">\n",
       "  <thead>\n",
       "    <tr style=\"text-align: right;\">\n",
       "      <th></th>\n",
       "      <th>event_id</th>\n",
       "      <th>event_time</th>\n",
       "      <th>mc_energy</th>\n",
       "      <th>ring_size</th>\n",
       "      <th>size_outside</th>\n",
       "      <th>ring_center_x</th>\n",
       "      <th>ring_center_y</th>\n",
       "      <th>ring_radius</th>\n",
       "      <th>ring_width</th>\n",
       "      <th>good_ring</th>\n",
       "      <th>...</th>\n",
       "      <th>impact_parameter</th>\n",
       "      <th>impact_x_array</th>\n",
       "      <th>impact_y_array</th>\n",
       "      <th>radial_stdev</th>\n",
       "      <th>radial_skewness</th>\n",
       "      <th>radial_excess_kurtosis</th>\n",
       "      <th>num_pixels_in_ring</th>\n",
       "      <th>mean_pixel_charge_around_ring</th>\n",
       "      <th>hg_peak_sample</th>\n",
       "      <th>lg_peak_sample</th>\n",
       "    </tr>\n",
       "  </thead>\n",
       "  <tbody>\n",
       "    <tr>\n",
       "      <th>0</th>\n",
       "      <td>8795</td>\n",
       "      <td>1.696640e+09</td>\n",
       "      <td>-1</td>\n",
       "      <td>1799.955688</td>\n",
       "      <td>0.0</td>\n",
       "      <td>0.121167</td>\n",
       "      <td>1.224513</td>\n",
       "      <td>1.028731</td>\n",
       "      <td>0.071384</td>\n",
       "      <td>True</td>\n",
       "      <td>...</td>\n",
       "      <td>5.505880</td>\n",
       "      <td>1.598937</td>\n",
       "      <td>5.268598e+00</td>\n",
       "      <td>0.058393</td>\n",
       "      <td>-0.073246</td>\n",
       "      <td>0.008860</td>\n",
       "      <td>342</td>\n",
       "      <td>0.610869</td>\n",
       "      <td>12</td>\n",
       "      <td>0</td>\n",
       "    </tr>\n",
       "    <tr>\n",
       "      <th>1</th>\n",
       "      <td>9377</td>\n",
       "      <td>1.696640e+09</td>\n",
       "      <td>-1</td>\n",
       "      <td>2051.665527</td>\n",
       "      <td>0.0</td>\n",
       "      <td>-0.594032</td>\n",
       "      <td>-0.808691</td>\n",
       "      <td>1.205283</td>\n",
       "      <td>0.109438</td>\n",
       "      <td>True</td>\n",
       "      <td>...</td>\n",
       "      <td>8.121141</td>\n",
       "      <td>-7.172593</td>\n",
       "      <td>3.808785e+00</td>\n",
       "      <td>0.058608</td>\n",
       "      <td>0.329478</td>\n",
       "      <td>0.236709</td>\n",
       "      <td>464</td>\n",
       "      <td>0.255329</td>\n",
       "      <td>11</td>\n",
       "      <td>0</td>\n",
       "    </tr>\n",
       "    <tr>\n",
       "      <th>2</th>\n",
       "      <td>11188</td>\n",
       "      <td>1.696640e+09</td>\n",
       "      <td>-1</td>\n",
       "      <td>1361.210083</td>\n",
       "      <td>0.0</td>\n",
       "      <td>-1.279059</td>\n",
       "      <td>0.822034</td>\n",
       "      <td>0.942094</td>\n",
       "      <td>0.056464</td>\n",
       "      <td>True</td>\n",
       "      <td>...</td>\n",
       "      <td>3.336372</td>\n",
       "      <td>2.894463</td>\n",
       "      <td>-1.659355e+00</td>\n",
       "      <td>0.050873</td>\n",
       "      <td>-0.229531</td>\n",
       "      <td>-0.125514</td>\n",
       "      <td>243</td>\n",
       "      <td>-0.014971</td>\n",
       "      <td>12</td>\n",
       "      <td>0</td>\n",
       "    </tr>\n",
       "    <tr>\n",
       "      <th>3</th>\n",
       "      <td>16004</td>\n",
       "      <td>1.696640e+09</td>\n",
       "      <td>-1</td>\n",
       "      <td>1495.712036</td>\n",
       "      <td>0.0</td>\n",
       "      <td>-0.935704</td>\n",
       "      <td>-1.947606</td>\n",
       "      <td>1.098101</td>\n",
       "      <td>0.075057</td>\n",
       "      <td>True</td>\n",
       "      <td>...</td>\n",
       "      <td>8.108323</td>\n",
       "      <td>-0.828564</td>\n",
       "      <td>-8.065878e+00</td>\n",
       "      <td>0.063815</td>\n",
       "      <td>-0.727235</td>\n",
       "      <td>0.450402</td>\n",
       "      <td>201</td>\n",
       "      <td>0.285824</td>\n",
       "      <td>13</td>\n",
       "      <td>0</td>\n",
       "    </tr>\n",
       "    <tr>\n",
       "      <th>4</th>\n",
       "      <td>18392</td>\n",
       "      <td>1.696640e+09</td>\n",
       "      <td>-1</td>\n",
       "      <td>1309.803711</td>\n",
       "      <td>0.0</td>\n",
       "      <td>0.600090</td>\n",
       "      <td>1.934240</td>\n",
       "      <td>1.164748</td>\n",
       "      <td>0.066805</td>\n",
       "      <td>True</td>\n",
       "      <td>...</td>\n",
       "      <td>3.343904</td>\n",
       "      <td>-3.343904</td>\n",
       "      <td>1.939560e-08</td>\n",
       "      <td>0.056042</td>\n",
       "      <td>-0.117697</td>\n",
       "      <td>0.868864</td>\n",
       "      <td>233</td>\n",
       "      <td>0.131741</td>\n",
       "      <td>10</td>\n",
       "      <td>0</td>\n",
       "    </tr>\n",
       "    <tr>\n",
       "      <th>...</th>\n",
       "      <td>...</td>\n",
       "      <td>...</td>\n",
       "      <td>...</td>\n",
       "      <td>...</td>\n",
       "      <td>...</td>\n",
       "      <td>...</td>\n",
       "      <td>...</td>\n",
       "      <td>...</td>\n",
       "      <td>...</td>\n",
       "      <td>...</td>\n",
       "      <td>...</td>\n",
       "      <td>...</td>\n",
       "      <td>...</td>\n",
       "      <td>...</td>\n",
       "      <td>...</td>\n",
       "      <td>...</td>\n",
       "      <td>...</td>\n",
       "      <td>...</td>\n",
       "      <td>...</td>\n",
       "      <td>...</td>\n",
       "      <td>...</td>\n",
       "    </tr>\n",
       "    <tr>\n",
       "      <th>6165</th>\n",
       "      <td>5024288</td>\n",
       "      <td>1.696641e+09</td>\n",
       "      <td>-1</td>\n",
       "      <td>1724.783081</td>\n",
       "      <td>0.0</td>\n",
       "      <td>-0.008661</td>\n",
       "      <td>-0.737075</td>\n",
       "      <td>1.070652</td>\n",
       "      <td>0.091264</td>\n",
       "      <td>True</td>\n",
       "      <td>...</td>\n",
       "      <td>7.826377</td>\n",
       "      <td>7.741472</td>\n",
       "      <td>-1.149687e+00</td>\n",
       "      <td>0.061972</td>\n",
       "      <td>0.305964</td>\n",
       "      <td>-0.170568</td>\n",
       "      <td>396</td>\n",
       "      <td>-0.066117</td>\n",
       "      <td>12</td>\n",
       "      <td>0</td>\n",
       "    </tr>\n",
       "    <tr>\n",
       "      <th>6166</th>\n",
       "      <td>5024558</td>\n",
       "      <td>1.696641e+09</td>\n",
       "      <td>-1</td>\n",
       "      <td>1787.743042</td>\n",
       "      <td>0.0</td>\n",
       "      <td>1.039415</td>\n",
       "      <td>-0.477390</td>\n",
       "      <td>1.192047</td>\n",
       "      <td>0.082745</td>\n",
       "      <td>True</td>\n",
       "      <td>...</td>\n",
       "      <td>8.319190</td>\n",
       "      <td>4.913307</td>\n",
       "      <td>-6.713295e+00</td>\n",
       "      <td>0.056016</td>\n",
       "      <td>0.766601</td>\n",
       "      <td>0.843756</td>\n",
       "      <td>425</td>\n",
       "      <td>0.021120</td>\n",
       "      <td>12</td>\n",
       "      <td>0</td>\n",
       "    </tr>\n",
       "    <tr>\n",
       "      <th>6167</th>\n",
       "      <td>5024694</td>\n",
       "      <td>1.696641e+09</td>\n",
       "      <td>-1</td>\n",
       "      <td>975.306458</td>\n",
       "      <td>0.0</td>\n",
       "      <td>2.407751</td>\n",
       "      <td>0.045962</td>\n",
       "      <td>1.083845</td>\n",
       "      <td>0.121157</td>\n",
       "      <td>True</td>\n",
       "      <td>...</td>\n",
       "      <td>6.891538</td>\n",
       "      <td>-4.508493</td>\n",
       "      <td>5.212176e+00</td>\n",
       "      <td>0.089216</td>\n",
       "      <td>-0.399266</td>\n",
       "      <td>-0.418319</td>\n",
       "      <td>170</td>\n",
       "      <td>0.069645</td>\n",
       "      <td>11</td>\n",
       "      <td>0</td>\n",
       "    </tr>\n",
       "    <tr>\n",
       "      <th>6168</th>\n",
       "      <td>5024875</td>\n",
       "      <td>1.696641e+09</td>\n",
       "      <td>-1</td>\n",
       "      <td>1805.732422</td>\n",
       "      <td>0.0</td>\n",
       "      <td>0.974171</td>\n",
       "      <td>1.011449</td>\n",
       "      <td>1.174743</td>\n",
       "      <td>0.065952</td>\n",
       "      <td>True</td>\n",
       "      <td>...</td>\n",
       "      <td>8.506378</td>\n",
       "      <td>-6.822808</td>\n",
       "      <td>5.080134e+00</td>\n",
       "      <td>0.045967</td>\n",
       "      <td>-0.266889</td>\n",
       "      <td>0.064587</td>\n",
       "      <td>347</td>\n",
       "      <td>0.439506</td>\n",
       "      <td>12</td>\n",
       "      <td>0</td>\n",
       "    </tr>\n",
       "    <tr>\n",
       "      <th>6169</th>\n",
       "      <td>5026125</td>\n",
       "      <td>1.696641e+09</td>\n",
       "      <td>-1</td>\n",
       "      <td>1732.720093</td>\n",
       "      <td>0.0</td>\n",
       "      <td>-0.912125</td>\n",
       "      <td>0.091212</td>\n",
       "      <td>0.915891</td>\n",
       "      <td>0.095719</td>\n",
       "      <td>True</td>\n",
       "      <td>...</td>\n",
       "      <td>7.235568</td>\n",
       "      <td>-5.206682</td>\n",
       "      <td>5.024331e+00</td>\n",
       "      <td>0.076833</td>\n",
       "      <td>-0.039141</td>\n",
       "      <td>-0.585868</td>\n",
       "      <td>289</td>\n",
       "      <td>0.225140</td>\n",
       "      <td>11</td>\n",
       "      <td>0</td>\n",
       "    </tr>\n",
       "  </tbody>\n",
       "</table>\n",
       "<p>6170 rows × 23 columns</p>\n",
       "</div>"
      ],
      "text/plain": [
       "      event_id    event_time  mc_energy    ring_size  size_outside  \\\n",
       "0         8795  1.696640e+09         -1  1799.955688           0.0   \n",
       "1         9377  1.696640e+09         -1  2051.665527           0.0   \n",
       "2        11188  1.696640e+09         -1  1361.210083           0.0   \n",
       "3        16004  1.696640e+09         -1  1495.712036           0.0   \n",
       "4        18392  1.696640e+09         -1  1309.803711           0.0   \n",
       "...        ...           ...        ...          ...           ...   \n",
       "6165   5024288  1.696641e+09         -1  1724.783081           0.0   \n",
       "6166   5024558  1.696641e+09         -1  1787.743042           0.0   \n",
       "6167   5024694  1.696641e+09         -1   975.306458           0.0   \n",
       "6168   5024875  1.696641e+09         -1  1805.732422           0.0   \n",
       "6169   5026125  1.696641e+09         -1  1732.720093           0.0   \n",
       "\n",
       "      ring_center_x  ring_center_y  ring_radius  ring_width  good_ring  ...  \\\n",
       "0          0.121167       1.224513     1.028731    0.071384       True  ...   \n",
       "1         -0.594032      -0.808691     1.205283    0.109438       True  ...   \n",
       "2         -1.279059       0.822034     0.942094    0.056464       True  ...   \n",
       "3         -0.935704      -1.947606     1.098101    0.075057       True  ...   \n",
       "4          0.600090       1.934240     1.164748    0.066805       True  ...   \n",
       "...             ...            ...          ...         ...        ...  ...   \n",
       "6165      -0.008661      -0.737075     1.070652    0.091264       True  ...   \n",
       "6166       1.039415      -0.477390     1.192047    0.082745       True  ...   \n",
       "6167       2.407751       0.045962     1.083845    0.121157       True  ...   \n",
       "6168       0.974171       1.011449     1.174743    0.065952       True  ...   \n",
       "6169      -0.912125       0.091212     0.915891    0.095719       True  ...   \n",
       "\n",
       "      impact_parameter  impact_x_array  impact_y_array  radial_stdev  \\\n",
       "0             5.505880        1.598937    5.268598e+00      0.058393   \n",
       "1             8.121141       -7.172593    3.808785e+00      0.058608   \n",
       "2             3.336372        2.894463   -1.659355e+00      0.050873   \n",
       "3             8.108323       -0.828564   -8.065878e+00      0.063815   \n",
       "4             3.343904       -3.343904    1.939560e-08      0.056042   \n",
       "...                ...             ...             ...           ...   \n",
       "6165          7.826377        7.741472   -1.149687e+00      0.061972   \n",
       "6166          8.319190        4.913307   -6.713295e+00      0.056016   \n",
       "6167          6.891538       -4.508493    5.212176e+00      0.089216   \n",
       "6168          8.506378       -6.822808    5.080134e+00      0.045967   \n",
       "6169          7.235568       -5.206682    5.024331e+00      0.076833   \n",
       "\n",
       "      radial_skewness  radial_excess_kurtosis  num_pixels_in_ring  \\\n",
       "0           -0.073246                0.008860                 342   \n",
       "1            0.329478                0.236709                 464   \n",
       "2           -0.229531               -0.125514                 243   \n",
       "3           -0.727235                0.450402                 201   \n",
       "4           -0.117697                0.868864                 233   \n",
       "...               ...                     ...                 ...   \n",
       "6165         0.305964               -0.170568                 396   \n",
       "6166         0.766601                0.843756                 425   \n",
       "6167        -0.399266               -0.418319                 170   \n",
       "6168        -0.266889                0.064587                 347   \n",
       "6169        -0.039141               -0.585868                 289   \n",
       "\n",
       "      mean_pixel_charge_around_ring  hg_peak_sample  lg_peak_sample  \n",
       "0                          0.610869              12               0  \n",
       "1                          0.255329              11               0  \n",
       "2                         -0.014971              12               0  \n",
       "3                          0.285824              13               0  \n",
       "4                          0.131741              10               0  \n",
       "...                             ...             ...             ...  \n",
       "6165                      -0.066117              12               0  \n",
       "6166                       0.021120              12               0  \n",
       "6167                       0.069645              11               0  \n",
       "6168                       0.439506              12               0  \n",
       "6169                       0.225140              11               0  \n",
       "\n",
       "[6170 rows x 23 columns]"
      ]
     },
     "execution_count": 8,
     "metadata": {},
     "output_type": "execute_result"
    }
   ],
   "source": [
    "df_muons"
   ]
  },
  {
   "cell_type": "code",
   "execution_count": 9,
   "id": "7de3cc8a-ffb8-45d6-aa14-32ad35ee21f7",
   "metadata": {},
   "outputs": [
    {
     "data": {
      "image/png": "[encoded data removed]",
      "text/plain": [
       "<Figure size 640x480 with 1 Axes>"
      ]
     },
     "metadata": {},
     "output_type": "display_data"
    }
   ],
   "source": [
    "ax = df_muons['size_outside'].hist(bins=1000)\n",
    "ax.set_xlim(0,200)\n",
    "ax.set_yscale(\"log\")"
   ]
  },
  {
   "cell_type": "code",
   "execution_count": 10,
   "id": "8ab4b9a6-3b55-49fb-bf98-216defe56ea2",
   "metadata": {},
   "outputs": [
    {
     "data": {
      "text/plain": [
       "(0.1, 0.3)"
      ]
     },
     "execution_count": 10,
     "metadata": {},
     "output_type": "execute_result"
    },
    {
     "data": {
      "image/png": "[encoded data removed]",
      "text/plain": [
       "<Figure size 640x480 with 1 Axes>"
      ]
     },
     "metadata": {},
     "output_type": "display_data"
    }
   ],
   "source": [
    "ax = df_muons['muon_efficiency'].hist(bins=10000)\n",
    "ax.set_xlim(0.1,0.3)\n",
    "#ax.set_yscale(\"log\")"
   ]
  },
  {
   "cell_type": "code",
   "execution_count": 11,
   "id": "a466abc3-36ed-495d-a37d-1305d36810c4",
   "metadata": {},
   "outputs": [
    {
     "data": {
      "text/plain": [
       "(0.0, 0.2)"
      ]
     },
     "execution_count": 11,
     "metadata": {},
     "output_type": "execute_result"
    },
    {
     "data": {
      "image/png": "[encoded data removed]",
      "text/plain": [
       "<Figure size 640x480 with 1 Axes>"
      ]
     },
     "metadata": {},
     "output_type": "display_data"
    }
   ],
   "source": [
    "ax = df_muons['ring_width'].hist(bins=10000)\n",
    "ax.set_xlim(0.0,0.2)\n",
    "#ax.set_yscale(\"log\")"
   ]
  },
  {
   "cell_type": "code",
   "execution_count": 12,
   "id": "cc226ae3-18f3-4969-9b20-c309f8d33128",
   "metadata": {},
   "outputs": [
    {
     "data": {
      "text/plain": [
       "(-1.0, 2.0)"
      ]
     },
     "execution_count": 12,
     "metadata": {},
     "output_type": "execute_result"
    },
    {
     "data": {
      "image/png": "[encoded data removed]",
      "text/plain": [
       "<Figure size 640x480 with 1 Axes>"
      ]
     },
     "metadata": {},
     "output_type": "display_data"
    }
   ],
   "source": [
    "ax = df_muons['mean_pixel_charge_around_ring'].hist(bins=100)\n",
    "ax.set_xlim(-1.0,2)\n",
    "#ax.set_yscale(\"log\")"
   ]
  },
  {
   "cell_type": "code",
   "execution_count": 13,
   "id": "5e4e1185-3ae8-4019-86c4-b4446e4e4243",
   "metadata": {},
   "outputs": [
    {
     "ename": "KeyError",
     "evalue": "''",
     "output_type": "error",
     "traceback": [
      "\u001b[0;31m---------------------------------------------------------------------------\u001b[0m",
      "\u001b[0;31mKeyError\u001b[0m                                  Traceback (most recent call last)",
      "File \u001b[0;32m~/miniconda/envs/mamba/envs/lstchain-v0.10.18/lib/python3.11/site-packages/pandas/core/indexes/base.py:3805\u001b[0m, in \u001b[0;36mIndex.get_loc\u001b[0;34m(self, key)\u001b[0m\n\u001b[1;32m   3804\u001b[0m \u001b[38;5;28;01mtry\u001b[39;00m:\n\u001b[0;32m-> 3805\u001b[0m     \u001b[38;5;28;01mreturn\u001b[39;00m \u001b[38;5;28;43mself\u001b[39;49m\u001b[38;5;241;43m.\u001b[39;49m\u001b[43m_engine\u001b[49m\u001b[38;5;241;43m.\u001b[39;49m\u001b[43mget_loc\u001b[49m\u001b[43m(\u001b[49m\u001b[43mcasted_key\u001b[49m\u001b[43m)\u001b[49m\n\u001b[1;32m   3806\u001b[0m \u001b[38;5;28;01mexcept\u001b[39;00m \u001b[38;5;167;01mKeyError\u001b[39;00m \u001b[38;5;28;01mas\u001b[39;00m err:\n",
      "File \u001b[0;32mindex.pyx:167\u001b[0m, in \u001b[0;36mpandas._libs.index.IndexEngine.get_loc\u001b[0;34m()\u001b[0m\n",
      "File \u001b[0;32mindex.pyx:196\u001b[0m, in \u001b[0;36mpandas._libs.index.IndexEngine.get_loc\u001b[0;34m()\u001b[0m\n",
      "File \u001b[0;32mpandas/_libs/hashtable_class_helper.pxi:7081\u001b[0m, in \u001b[0;36mpandas._libs.hashtable.PyObjectHashTable.get_item\u001b[0;34m()\u001b[0m\n",
      "File \u001b[0;32mpandas/_libs/hashtable_class_helper.pxi:7089\u001b[0m, in \u001b[0;36mpandas._libs.hashtable.PyObjectHashTable.get_item\u001b[0;34m()\u001b[0m\n",
      "\u001b[0;31mKeyError\u001b[0m: ''",
      "\nThe above exception was the direct cause of the following exception:\n",
      "\u001b[0;31mKeyError\u001b[0m                                  Traceback (most recent call last)",
      "Cell \u001b[0;32mIn[13], line 1\u001b[0m\n\u001b[0;32m----> 1\u001b[0m ax \u001b[38;5;241m=\u001b[39m \u001b[43mdf_muons\u001b[49m\u001b[43m[\u001b[49m\u001b[38;5;124;43m'\u001b[39;49m\u001b[38;5;124;43m'\u001b[39;49m\u001b[43m]\u001b[49m\u001b[38;5;241m.\u001b[39mhist(bins\u001b[38;5;241m=\u001b[39m\u001b[38;5;241m100\u001b[39m)\n\u001b[1;32m      2\u001b[0m \u001b[38;5;66;03m#ax.set_xlim(-1.0,2)\u001b[39;00m\n\u001b[1;32m      3\u001b[0m \u001b[38;5;66;03m#ax.set_yscale(\"log\")\u001b[39;00m\n",
      "File \u001b[0;32m~/miniconda/envs/mamba/envs/lstchain-v0.10.18/lib/python3.11/site-packages/pandas/core/frame.py:4102\u001b[0m, in \u001b[0;36mDataFrame.__getitem__\u001b[0;34m(self, key)\u001b[0m\n\u001b[1;32m   4100\u001b[0m \u001b[38;5;28;01mif\u001b[39;00m \u001b[38;5;28mself\u001b[39m\u001b[38;5;241m.\u001b[39mcolumns\u001b[38;5;241m.\u001b[39mnlevels \u001b[38;5;241m>\u001b[39m \u001b[38;5;241m1\u001b[39m:\n\u001b[1;32m   4101\u001b[0m     \u001b[38;5;28;01mreturn\u001b[39;00m \u001b[38;5;28mself\u001b[39m\u001b[38;5;241m.\u001b[39m_getitem_multilevel(key)\n\u001b[0;32m-> 4102\u001b[0m indexer \u001b[38;5;241m=\u001b[39m \u001b[38;5;28;43mself\u001b[39;49m\u001b[38;5;241;43m.\u001b[39;49m\u001b[43mcolumns\u001b[49m\u001b[38;5;241;43m.\u001b[39;49m\u001b[43mget_loc\u001b[49m\u001b[43m(\u001b[49m\u001b[43mkey\u001b[49m\u001b[43m)\u001b[49m\n\u001b[1;32m   4103\u001b[0m \u001b[38;5;28;01mif\u001b[39;00m is_integer(indexer):\n\u001b[1;32m   4104\u001b[0m     indexer \u001b[38;5;241m=\u001b[39m [indexer]\n",
      "File \u001b[0;32m~/miniconda/envs/mamba/envs/lstchain-v0.10.18/lib/python3.11/site-packages/pandas/core/indexes/base.py:3812\u001b[0m, in \u001b[0;36mIndex.get_loc\u001b[0;34m(self, key)\u001b[0m\n\u001b[1;32m   3807\u001b[0m     \u001b[38;5;28;01mif\u001b[39;00m \u001b[38;5;28misinstance\u001b[39m(casted_key, \u001b[38;5;28mslice\u001b[39m) \u001b[38;5;129;01mor\u001b[39;00m (\n\u001b[1;32m   3808\u001b[0m         \u001b[38;5;28misinstance\u001b[39m(casted_key, abc\u001b[38;5;241m.\u001b[39mIterable)\n\u001b[1;32m   3809\u001b[0m         \u001b[38;5;129;01mand\u001b[39;00m \u001b[38;5;28many\u001b[39m(\u001b[38;5;28misinstance\u001b[39m(x, \u001b[38;5;28mslice\u001b[39m) \u001b[38;5;28;01mfor\u001b[39;00m x \u001b[38;5;129;01min\u001b[39;00m casted_key)\n\u001b[1;32m   3810\u001b[0m     ):\n\u001b[1;32m   3811\u001b[0m         \u001b[38;5;28;01mraise\u001b[39;00m InvalidIndexError(key)\n\u001b[0;32m-> 3812\u001b[0m     \u001b[38;5;28;01mraise\u001b[39;00m \u001b[38;5;167;01mKeyError\u001b[39;00m(key) \u001b[38;5;28;01mfrom\u001b[39;00m\u001b[38;5;250m \u001b[39m\u001b[38;5;21;01merr\u001b[39;00m\n\u001b[1;32m   3813\u001b[0m \u001b[38;5;28;01mexcept\u001b[39;00m \u001b[38;5;167;01mTypeError\u001b[39;00m:\n\u001b[1;32m   3814\u001b[0m     \u001b[38;5;66;03m# If we have a listlike key, _check_indexing_error will raise\u001b[39;00m\n\u001b[1;32m   3815\u001b[0m     \u001b[38;5;66;03m#  InvalidIndexError. Otherwise we fall through and re-raise\u001b[39;00m\n\u001b[1;32m   3816\u001b[0m     \u001b[38;5;66;03m#  the TypeError.\u001b[39;00m\n\u001b[1;32m   3817\u001b[0m     \u001b[38;5;28mself\u001b[39m\u001b[38;5;241m.\u001b[39m_check_indexing_error(key)\n",
      "\u001b[0;31mKeyError\u001b[0m: ''"
     ]
    }
   ],
   "source": [
    "#ax = df_muons[''].hist(bins=100)\n",
    "#ax.set_xlim(-1.0,2)\n",
    "#ax.set_yscale(\"log\")"
   ]
  },
  {
   "cell_type": "code",
   "execution_count": 24,
   "id": "02bd7c6f-767a-4589-9c6c-395fb3e68d3a",
   "metadata": {},
   "outputs": [
    {
     "data": {
      "image/png": "[encoded data removed]",
      "text/plain": [
       "<Figure size 640x480 with 1 Axes>"
      ]
     },
     "metadata": {},
     "output_type": "display_data"
    }
   ],
   "source": [
    "ax=df_muons['ring_completeness'].hist(bins=30)\n",
    "#ax.set_xlim(1,10)\n",
    "#ax.set_yscale(\"log\")"
   ]
  },
  {
   "cell_type": "code",
   "execution_count": 28,
   "id": "ae47e735-4af9-4ff4-b190-ee83d9bad330",
   "metadata": {},
   "outputs": [
    {
     "data": {
      "text/plain": [
       "(0.75, 1.3)"
      ]
     },
     "execution_count": 28,
     "metadata": {},
     "output_type": "execute_result"
    },
    {
     "data": {
      "image/png": "[encoded data removed]",
      "text/plain": [
       "<Figure size 640x480 with 1 Axes>"
      ]
     },
     "metadata": {},
     "output_type": "display_data"
    }
   ],
   "source": [
    "ax=df_muons['ring_radius'].hist(bins=200)\n",
    "ax.set_xlim(0.75,1.3)\n",
    "#ax.set_yscale(\"log\")"
   ]
  },
  {
   "cell_type": "code",
   "execution_count": 30,
   "id": "aaa14096-a534-4660-b44b-0e38e57e9740",
   "metadata": {},
   "outputs": [
    {
     "data": {
      "image/png": "[encoded data removed]",
      "text/plain": [
       "<Figure size 640x480 with 1 Axes>"
      ]
     },
     "metadata": {},
     "output_type": "display_data"
    }
   ],
   "source": [
    "ax = df_muons['ring_center_x'].hist(bins=100)\n",
    "#ax.set_xlim(0,200)\n",
    "#ax.set_yscale(\"log\")"
   ]
  },
  {
   "cell_type": "code",
   "execution_count": 31,
   "id": "fb80546d-2dc6-4075-ba6b-c2c648e7540b",
   "metadata": {},
   "outputs": [
    {
     "data": {
      "image/png": "[encoded data removed]",
      "text/plain": [
       "<Figure size 640x480 with 1 Axes>"
      ]
     },
     "metadata": {},
     "output_type": "display_data"
    }
   ],
   "source": [
    "ax = df_muons['ring_center_y'].hist(bins=100)\n",
    "#ax.set_xlim(0,200)\n",
    "#ax.set_yscale(\"log\")"
   ]
  },
  {
   "cell_type": "code",
   "execution_count": 34,
   "id": "13ff8b0c-c8f0-4126-9b1e-224e27a9faaa",
   "metadata": {},
   "outputs": [
    {
     "data": {
      "image/png": "[encoded data removed]",
      "text/plain": [
       "<Figure size 640x480 with 1 Axes>"
      ]
     },
     "metadata": {},
     "output_type": "display_data"
    }
   ],
   "source": [
    "ax = df_muons['ring_size'].hist(bins=100)\n",
    "#ax.set_xlim(0,200)\n",
    "#ax.set_yscale(\"log\")"
   ]
  },
  {
   "cell_type": "code",
   "execution_count": 37,
   "id": "1a46130c-7fdf-4b4a-af4a-1ce52476aac7",
   "metadata": {},
   "outputs": [
    {
     "data": {
      "image/png": "[encoded data removed]",
      "text/plain": [
       "<Figure size 640x480 with 1 Axes>"
      ]
     },
     "metadata": {},
     "output_type": "display_data"
    }
   ],
   "source": [
    "ax = df_muons['radial_skewness'].hist(bins=100)\n",
    "#ax.set_xlim(0,200)\n",
    "#ax.set_yscale(\"log\")"
   ]
  },
  {
   "cell_type": "code",
   "execution_count": 51,
   "id": "5293e253-32ca-41dd-860d-64de0190348e",
   "metadata": {},
   "outputs": [
    {
     "data": {
      "image/png": "[encoded data removed]",
      "text/plain": [
       "<Figure size 640x480 with 1 Axes>"
      ]
     },
     "metadata": {},
     "output_type": "display_data"
    }
   ],
   "source": [
    "ax = df_muons['radial_excess_kurtosis'].hist(bins=100)"
   ]
  },
  {
   "cell_type": "code",
   "execution_count": 38,
   "id": "8e226bf6-3d78-4e86-bb0d-0ef76e3ce461",
   "metadata": {},
   "outputs": [
    {
     "data": {
      "image/png": "[encoded data removed]",
      "text/plain": [
       "<Figure size 640x480 with 1 Axes>"
      ]
     },
     "metadata": {},
     "output_type": "display_data"
    }
   ],
   "source": [
    "ax = df_muons['radial_stdev'].hist(bins=100)\n",
    "#ax.set_xlim(0,200)\n",
    "#ax.set_yscale(\"log\")"
   ]
  },
  {
   "cell_type": "code",
   "execution_count": 40,
   "id": "03e40e13-b541-401f-9dfd-07cc09b5cad4",
   "metadata": {},
   "outputs": [
    {
     "data": {
      "image/png": "[encoded data removed]",
      "text/plain": [
       "<Figure size 640x480 with 1 Axes>"
      ]
     },
     "metadata": {},
     "output_type": "display_data"
    }
   ],
   "source": [
    "ax = df_muons['hg_peak_sample'].hist(bins=20)\n",
    "#ax.set_xlim(0,200)\n",
    "#ax.set_yscale(\"log\")"
   ]
  },
  {
   "cell_type": "code",
   "execution_count": 47,
   "id": "3aa428cd-5397-446c-ac04-4906c9091117",
   "metadata": {},
   "outputs": [
    {
     "data": {
      "image/png": "[encoded data removed]",
      "text/plain": [
       "<Figure size 640x480 with 1 Axes>"
      ]
     },
     "metadata": {},
     "output_type": "display_data"
    }
   ],
   "source": [
    "ax = df_muons['lg_peak_sample'].hist(bins=1000)\n",
    "ax.set_xlim(0,0.1)\n",
    "ax.set_yscale(\"log\")"
   ]
  },
  {
   "cell_type": "code",
   "execution_count": 50,
   "id": "f417e879-ad7d-484f-a9d5-642b68630c27",
   "metadata": {},
   "outputs": [
    {
     "data": {
      "image/png": "[encoded data removed]",
      "text/plain": [
       "<Figure size 640x480 with 1 Axes>"
      ]
     },
     "metadata": {},
     "output_type": "display_data"
    }
   ],
   "source": [
    "ax = df_muons['num_pixels_in_ring'].hist(bins=100)\n",
    "#ax.set_xlim(0,0.1)\n",
    "#ax.set_yscale(\"log\")"
   ]
  },
  {
   "cell_type": "code",
   "execution_count": 54,
   "id": "32ff8c16-04b1-4ee3-993d-c0eaf0e85f3d",
   "metadata": {},
   "outputs": [
    {
     "data": {
      "image/png": "[encoded data removed]",
      "text/plain": [
       "<Figure size 640x480 with 1 Axes>"
      ]
     },
     "metadata": {},
     "output_type": "display_data"
    }
   ],
   "source": [
    "ax = df_muons['event_time'].hist(bins=100)\n",
    "#ax.set_xlim(0,0.1)\n",
    "#ax.set_yscale(\"log\")"
   ]
  },
  {
   "cell_type": "code",
   "execution_count": 60,
   "id": "4f550572-dd13-416a-a12c-fe96e2609939",
   "metadata": {},
   "outputs": [
    {
     "data": {
      "text/plain": [
       "7.05179180437434"
      ]
     },
     "execution_count": 60,
     "metadata": {},
     "output_type": "execute_result"
    }
   ],
   "source": [
    "len(df_muons)/(df_muons['event_time'].values[-1] - df_muons['event_time'].values[0])"
   ]
  },
  {
   "cell_type": "code",
   "execution_count": 61,
   "id": "0195fede-e9cb-4a83-8a65-55c838b1c04e",
   "metadata": {},
   "outputs": [
    {
     "data": {
      "text/plain": [
       "6170"
      ]
     },
     "execution_count": 61,
     "metadata": {},
     "output_type": "execute_result"
    }
   ],
   "source": [
    "len(df_muons)"
   ]
  },
  {
   "cell_type": "code",
   "execution_count": 64,
   "id": "8348d64f-41b6-42e0-96a7-d610953b5c2e",
   "metadata": {},
   "outputs": [
    {
     "data": {
      "image/png": "[encoded data removed]",
      "text/plain": [
       "<Figure size 640x480 with 1 Axes>"
      ]
     },
     "metadata": {},
     "output_type": "display_data"
    }
   ],
   "source": [
    "ax = df_muons['ring_containment'].hist(bins=100)\n",
    "ax.set_yscale(\"log\")"
   ]
  },
  {
   "cell_type": "code",
   "execution_count": 67,
   "id": "71710378-ec64-45d6-ae9d-6612cf750f7f",
   "metadata": {},
   "outputs": [
    {
     "data": {
      "image/png": "[encoded data removed]",
      "text/plain": [
       "<Figure size 640x480 with 1 Axes>"
      ]
     },
     "metadata": {},
     "output_type": "display_data"
    }
   ],
   "source": [
    "ax = df_muons['ring_completeness'].hist(bins=30)\n",
    "#ax.set_yscale(\"log\")"
   ]
  },
  {
   "cell_type": "code",
   "execution_count": null,
   "id": "e0e416d4-81eb-4392-b902-e94172b03aee",
   "metadata": {},
   "outputs": [],
   "source": [
    "ax = df_muons['de'].hist(bins=100)\n",
    "ax.set_xlim(-1.0,2)\n",
    "#ax.set_yscale(\"log\")"
   ]
  },
  {
   "cell_type": "markdown",
   "id": "ad42b137-7f64-420f-aa76-1e2489aef969",
   "metadata": {},
   "source": [
    "## USER INPUT: define below which version(s) of the DL1 files you intend to use in your analysis\n",
    "Note: if you are not running the notebook in a system where the DL1 files are accessible, just set dl1_dirlist to None in the cell below"
   ]
  },
  {
   "cell_type": "code",
   "execution_count": null,
   "id": "f97b002c-9d09-436f-8a2d-1da8843cfd86",
   "metadata": {},
   "outputs": [],
   "source": [
    "# This is in order of preference. In this case we state that we want to use v0.10, but if it is \n",
    "# not available we will use v0.9. Typically one wants to use the latest available version, and \n",
    "# default to the previous one if the latest is not available.\n",
    "dl1_dirlist = [\"/fefs/aswg/data/real/DL1/YYYYMMDD/v0.10/tailcut84\",\n",
    "               \"/fefs/aswg/data/real/DL1/YYYYMMDD/v0.9/tailcut84\"]\n",
    "\n",
    "# YYYYMMDD of course stands for the night's date (by convention, the date before midnight)\n",
    "\n",
    "# Uncomment the line below in case you are not running in the IT cluster, and the DL1 files are not available\n",
    "# anywhere in the system where you are running.\n",
    "# dl1_dirlist = None"
   ]
  },
  {
   "cell_type": "markdown",
   "id": "cb43e081",
   "metadata": {},
   "source": [
    "## USER INPUT: path to the necessary datacheck files"
   ]
  },
  {
   "cell_type": "code",
   "execution_count": null,
   "id": "dc3fcad0",
   "metadata": {},
   "outputs": [],
   "source": [
    "# Note: the sample of night-wise datacheck files from November 2019 to January 2024 is ~3.2 GB \n",
    "#\n",
    "# The standard path for the (v0.10) night-wise datacheck files at the IT cluster is \n",
    "# /fefs/aswg/data/real/OSA/DL1DataCheck_LongTerm/v0.10/YYYYMMDD/\n",
    "#\n",
    "# Example: load all the 2023 files processed with v0.10:\n",
    "# files = glob.glob(\"/fefs/aswg/data/real/OSA/DL1DataCheck_LongTerm/v0.10/2023????/DL1_datacheck_2023*.h5\")\n",
    "# \n",
    "# Example: load all the 2023 files processed (with any version - the latest available for each night): \n",
    "files = glob.glob(\"/fefs/aswg/data/real/OSA/DL1DataCheck_LongTerm/night_wise/all/DL1_datacheck_202[1-4]*.h5\")\n",
    "\n",
    "files.sort()"
   ]
  },
  {
   "cell_type": "code",
   "execution_count": null,
   "id": "3d1ce156",
   "metadata": {},
   "outputs": [],
   "source": [
    "# This takes a few minutes... DON'T RUN IT MORE THAN ONCE, it is not needed! (If you change the \n",
    "# sky region or the cuts just execute the cells from \"Data selection configuration\" onwards)\n",
    "dummy = []\n",
    "dummy2 = []\n",
    "dummy3 = []\n",
    "\n",
    "missing_flatfield_tables = 0\n",
    "\n",
    "for i, file in enumerate(files):\n",
    "    if i%10 == 0:\n",
    "        print(i, '/', len(files), file)\n",
    "    dummy.append(pd.read_hdf(file, 'cosmics_intensity_spectrum'))\n",
    "    dummy2.append(pd.read_hdf(file, 'runsummary'))\n",
    "    \n",
    "    try:\n",
    "        fftable = pd.read_hdf(file, 'flatfield', errors='ignore')\n",
    "        dummy3.append(fftable)\n",
    "    except: \n",
    "        # some check files have no flatfield table at all (if calibox was off) \n",
    "        missing_flatfield_tables += 1\n",
    "\n",
    "# cosmics intensity spectra table (subrun-wise):\n",
    "cis = pd.concat(dummy, ignore_index=True)\n",
    "\n",
    "# flatfield table (subrun-wise):\n",
    "flatfield = pd.concat(dummy3, ignore_index=True)\n",
    "\n",
    "# parameters computed run-wise:\n",
    "runsummary = pd.concat(dummy2, ignore_index=True)"
   ]
  },
  {
   "cell_type": "code",
   "execution_count": null,
   "id": "ba15213e",
   "metadata": {},
   "outputs": [],
   "source": [
    "cis.columns"
   ]
  },
  {
   "cell_type": "code",
   "execution_count": null,
   "id": "136ce3b5",
   "metadata": {},
   "outputs": [],
   "source": [
    "flatfield.columns"
   ]
  },
  {
   "cell_type": "code",
   "execution_count": null,
   "id": "37fa2873",
   "metadata": {},
   "outputs": [],
   "source": [
    "runsummary.columns"
   ]
  },
  {
   "cell_type": "code",
   "execution_count": null,
   "id": "c53373bb",
   "metadata": {},
   "outputs": [],
   "source": [
    "# Obtain list of runnumbers and corresponding dates:\n",
    "runlist, iix = np.unique(cis['runnumber'], return_index=True)\n",
    "rundate = cis['yyyymmdd'][iix].to_numpy()"
   ]
  },
  {
   "cell_type": "markdown",
   "id": "ef020a41",
   "metadata": {},
   "source": [
    "## We will now compute some run-wise quantities from the subrun-wise table entries  "
   ]
  },
  {
   "cell_type": "code",
   "execution_count": null,
   "id": "2976da12",
   "metadata": {},
   "outputs": [],
   "source": [
    "#\n",
    "# Lomb-Scargle periodogram of ZD_corrected_cosmics_rate_at_422_pe vs. time\n",
    "# May eventually be useful to identify runs affected by MAGIC LIDAR shots...\n",
    "#\n",
    "\n",
    "max_lsc = []\n",
    "max_lsc_period = [] # in seconds\n",
    "for i, ri in enumerate(runlist):\n",
    "    if i%1000 == 0:\n",
    "        print(i, '/', len(runlist))\n",
    "    rvalues = cis['ZD_corrected_cosmics_rate_at_422_pe'][cis['runnumber']==ri].to_numpy()\n",
    "    tvalues = cis['time'][cis['runnumber']==ri].to_numpy()\n",
    "    tvalues -= tvalues[0]\n",
    "    freqs = np.logspace(-3, -1, 100)\n",
    "    mask = ~np.isnan(rvalues)\n",
    "    lsc = lombscargle(tvalues[mask], rvalues[mask], freqs, \n",
    "                      normalize=True, precenter=True)\n",
    "    max_lsc.append(np.nanmax(lsc))\n",
    "    if (~np.isnan(lsc)).sum() == 0:\n",
    "        max_lsc_period.append(np.nan)\n",
    "    else:\n",
    "        max_lsc_period.append(1./freqs[np.nanargmax(lsc)])\n",
    "\n",
    "max_lsc = np.array(max_lsc)\n",
    "max_lsc_period = np.array(max_lsc_period)\n",
    "\n",
    "# You may get some RuntimeWarnings, from rare data with big issues - those warnings can be safely ignored"
   ]
  },
  {
   "cell_type": "markdown",
   "id": "548a05e5",
   "metadata": {},
   "source": [
    "## ****************   Data selection configuration   ****************\n",
    "For a standard selection of dark-night data, just set the desired source coordinates, the zenith angle range (if desired), and the time span of the data in YYYYMMDD. All the rest can be kept at the default values."
   ]
  },
  {
   "cell_type": "markdown",
   "id": "9341ace8",
   "metadata": {},
   "source": [
    "## USER INPUT: put source coordinates below (if set to None, all data will be used)"
   ]
  },
  {
   "cell_type": "code",
   "execution_count": null,
   "id": "44f47802",
   "metadata": {},
   "outputs": [],
   "source": [
    "source_coordinates = None\n",
    "\n",
    "# Source coordinates can be set to specific RA, dec values, or using the source name (if known to astropy):\n",
    "source_coordinates = SkyCoord.from_name(\"Crab Nebula\")\n",
    "# source_coordinates = SkyCoord.from_name(\"Mrk 501\")\n",
    "# source_coordinates = SkyCoord.from_name(\"BL Lac\")\n",
    "\n",
    "print('Source coordinates:', source_coordinates)\n",
    "\n",
    "# Select here the desired range of telescope pointings around the source. \n",
    "# The values below are for *standard* wobble observations (0.4 deg source offset)\n",
    "min_angle_to_source = 0.35 * u.deg\n",
    "max_angle_to_source = 0.45 * u.deg"
   ]
  },
  {
   "cell_type": "markdown",
   "id": "7b3ace3c",
   "metadata": {},
   "source": [
    "## USER INPUT: zenith distance range"
   ]
  },
  {
   "cell_type": "code",
   "execution_count": null,
   "id": "b6806267",
   "metadata": {},
   "outputs": [],
   "source": [
    "# Just an example, use whatever you need\n",
    "min_zenith = 0 * u.deg\n",
    "max_zenith = 50 * u.deg"
   ]
  },
  {
   "cell_type": "markdown",
   "id": "09e905a5",
   "metadata": {},
   "source": [
    "## USER INPUT: range of dates YYYYMMDD (in \"date before midnight\" convention) "
   ]
  },
  {
   "cell_type": "code",
   "execution_count": null,
   "id": "d4296dbb",
   "metadata": {},
   "outputs": [],
   "source": [
    "# first_date = 0         # no selection\n",
    "# last_date  = 29990101  # no selection\n",
    "\n",
    "# Both first_date and last_date are included in the selection:\n",
    "first_date = 20201101\n",
    "last_date  = 20231231\n",
    "# Of course, the input sample of datacheck files must cover the range of dates you are interested in! \n",
    "\n",
    "\n",
    "# Very stable period, for reference: 20221118 - 20230214"
   ]
  },
  {
   "cell_type": "markdown",
   "id": "de4d5c60",
   "metadata": {},
   "source": [
    "## USER INPUT: maximum diffuse NSB (average std dev of charge of pedestals, in pixels with no nearby bright star)\n",
    "Below we are selecting by default \"dark conditions\" (i.e. not too high NSB like you can have from the moon being above the horizon). Of course, some data are taken in moon conditions, or on a particularly bright sky field, so the value may have to be adapted to the data in question... \n",
    "\n",
    "For data taken with **very high** NSB, also the trigger threshold of the LST may be significantly higher, and in that case one may need to relax with the so-called \"intensity threshold\" cut that you will find a few cells below (\"max_intensity_at_half_peak_rate\", which is the intensity at which 50% of the dR/dI peak rate is reached). By default it is set to remove runs in which the telescope threshold is too high, but this may be the case for all your data (e.g., for a GRB observed only in moon conditions) and hence you may be forced to remove of relax the cut."
   ]
  },
  {
   "cell_type": "code",
   "execution_count": null,
   "id": "2ed08ae2",
   "metadata": {},
   "outputs": [],
   "source": [
    "max_diffuse_nsb_std = 2.3 # p.e. A maximum value of 2.3 roughly corresponds to selecting moon-less data "
   ]
  },
  {
   "cell_type": "markdown",
   "id": "474d27df",
   "metadata": {},
   "source": [
    "## End of user input\n",
    "For a standard data selection there is no need to modify anything else.\n",
    "\n",
    "# "
   ]
  },
  {
   "cell_type": "markdown",
   "id": "39c0eba8",
   "metadata": {},
   "source": [
    "## Require that data contain interleaved and pedestal events"
   ]
  },
  {
   "cell_type": "code",
   "execution_count": null,
   "id": "8ca366b8",
   "metadata": {},
   "outputs": [],
   "source": [
    "# Basic selection: select only runs with in which both types of interleaved events are present:\n",
    "require_interleaved_pedestals = True\n",
    "require_interleaved_flatfield = True"
   ]
  },
  {
   "cell_type": "markdown",
   "id": "b49b5bad",
   "metadata": {},
   "source": [
    "## Pointing stability (maximum allowed std dev of declination in run)\n",
    "Besides runs with unstable pointing, this will also remove runs in which tracking got stuck (if not already removed by the source selection above)"
   ]
  },
  {
   "cell_type": "code",
   "execution_count": null,
   "id": "fc40ad24",
   "metadata": {},
   "outputs": [],
   "source": [
    "max_pointing_dec_std = 0.01 # deg"
   ]
  },
  {
   "cell_type": "markdown",
   "id": "6002402e",
   "metadata": {},
   "source": [
    "## Selection based on the dR/dI, differential cosmics rate (in intensity), i.e. \"Cherenkov transparency\"\n",
    "As part of the DL1 data checks, dR/dI was fitted to a power-law between 316-562 p.e. (the funny values are due to the binning used in the DL1 datacheck to store the intensity histograms). The fit parameters were then \"converted\" to their ZD=0 equivalent, i.e. we apply a zenith-dependent correction so the values for good data are all around the same values.\n",
    "\n",
    "Then we use the (ZD-corrected) power-law index at 422 p.e., and the (ZD-corrected) vaue of dR/dI (events per second and per p.e.) at 422 p.e. as quantities for the quality selection."
   ]
  },
  {
   "cell_type": "code",
   "execution_count": null,
   "id": "f91f0ba9",
   "metadata": {},
   "outputs": [],
   "source": [
    "# We make a fit per subrun. Then we average the fit p-values. For good fits the pdf of P us uniform in [0,1]\n",
    "# The mean will have mean 0.5 and std dev 1/sqrt(12*Nsubruns). \n",
    "# We require a minimum value of (mean_p-0.5)*sqrt(12*Nsubruns) (in the limit of large Nsubruns would be a standard\n",
    "# gaussian of mean 0 and std dev 1)\n",
    "\n",
    "min_mean_fit_p = -3.\n",
    "\n",
    "# Lomb Scargle periodogram, to detect strange features in the dR/dI evolution within a run\n",
    "max_LS_periodogram_maxamplitude = 1e-2\n",
    "\n",
    "min_drdi_index = -2.35\n",
    "max_drdi_index = -2.1\n",
    "\n",
    "min_drdi_at_422pe = 1.5\n",
    "# We do not set a maximum for the rate, we expect all bad observation (or telescope) conditions \n",
    "# to result in lower-than-optimal rates\n",
    "\n",
    "# Minimum fraction of subruns around the mode of drdi_at_422pe (within +/-0.075) - see the find_mode \n",
    "# function below\n",
    "min_fraction_around_mode = 0.8\n",
    "\n",
    "# Maximum intensity threshold\n",
    "# This is a proxy for energy threshold (for a given zenith). the cut is not tight, because\n",
    "# even data with high threshold may be of very good quality, and valid to obtain a spectrum.\n",
    "# If one is targeting very low energies (e.g. for pulsar analysis) then it may be necessary to \n",
    "# make a stricter selection.\n",
    "max_intensity_at_half_peak_rate = 70 # p.e.\n",
    "\n",
    "# Note: The cut in intensity applied in the analyis of low-threshold (<40) data is >50 p.e. \n",
    "# The cut should be higher (to prevent biases in flux calculations) for data with higher threshold.\n",
    "# Difficult to set a general rule, but it is safer to put the cut above the peak of the cosmics \n",
    "# intensisy spectrum"
   ]
  },
  {
   "cell_type": "markdown",
   "id": "08d86853",
   "metadata": {},
   "source": [
    "## ********* End of Configuration ************\n",
    "##\n",
    "\n"
   ]
  },
  {
   "cell_type": "code",
   "execution_count": null,
   "id": "f551f34c",
   "metadata": {},
   "outputs": [],
   "source": [
    "print('Total number of loaded subruns:', len(cis))\n",
    "print('Total number of loaded runs:', len(np.unique(cis['runnumber'])))"
   ]
  },
  {
   "cell_type": "code",
   "execution_count": null,
   "id": "8b6aa9f4",
   "metadata": {
    "scrolled": true
   },
   "outputs": [],
   "source": [
    "# Remove runs in summary table which are not present in the cis table, to keep consistency between them.\n",
    "# NOTE, AM 20231117: as of now only run 8091 is missing from the cis table, because \n",
    "# its original run-wise datacheck file is faulty (possibly due to some problem at run time)\n",
    "\n",
    "for r in runsummary['runnumber']:\n",
    "    if r in runlist:\n",
    "        continue\n",
    "    print('Removing run', r, 'from runsummary table!')\n",
    "    runsummary.drop(np.where(runsummary['runnumber']==r)[0], inplace=True)\n",
    "    runsummary.reset_index(inplace=True, drop=True)"
   ]
  },
  {
   "cell_type": "code",
   "execution_count": null,
   "id": "401ce371",
   "metadata": {},
   "outputs": [],
   "source": [
    "# Check that now the runsummary entries match the runs in runlist (in the same order)\n",
    "assert(np.allclose(runlist, runsummary['runnumber']))"
   ]
  },
  {
   "cell_type": "code",
   "execution_count": null,
   "id": "d9429ebf",
   "metadata": {},
   "outputs": [],
   "source": [
    "# Some utility functions:\n",
    "#\n",
    "# Function to find the mode (most frequent value) of an array x, using a bin width bw \n",
    "# and step dx (default=bw/100) (it is a sliding window sum)\n",
    "#\n",
    "# If return_fraction==True, then the fraction of the array's elements\n",
    "# contained in the bw-wide window around the mode is returned (instead of the \n",
    "# mode)\n",
    "#\n",
    "def find_mode(x, bw=0.15, dx=None, return_fraction=False):\n",
    "    \n",
    "    min = np.nanmin(x)\n",
    "    max = np.nanmax(x)\n",
    "    \n",
    "    if np.isnan(min):\n",
    "        return np.nan\n",
    "    if (max == min):\n",
    "        return np.nan\n",
    "    \n",
    "    if return_fraction & (max - min < bw):\n",
    "        return 1. # All values are within bw\n",
    "    \n",
    "    # If ALL data are within bw, then it does not make sense to make \n",
    "    # a sliding window. We reduce the window to one half until it becomes \n",
    "    # smaller than the range of x:\n",
    "\n",
    "    while bw > (max - min):\n",
    "        bw *= 0.5\n",
    "\n",
    "    if dx is None:\n",
    "        dx = bw / 100\n",
    "    \n",
    "    nn = int((max - min) // dx + 2)\n",
    "    cts, edges = np.histogram(x[~np.isnan(x)], bins=nn, range=(min-dx, max+dx))\n",
    "    csum = np.cumsum(cts) / np.sum(cts)\n",
    "    nsumbins = int(bw//dx)\n",
    "    running_sum = csum[nsumbins:]-csum[:-nsumbins]\n",
    "    xvalues = 0.5*(edges[nsumbins:]+edges[:-nsumbins])[:-1]\n",
    "\n",
    "    max_running_sum = np.nanmax(running_sum)\n",
    "    if np.isnan(max_running_sum):\n",
    "        return np.nan\n",
    "    \n",
    "    if return_fraction:\n",
    "        return max_running_sum\n",
    "\n",
    "    return xvalues[np.nanargmax(running_sum)]\n",
    "\n",
    "def find_fraction_in_mode(x):\n",
    "    return find_mode(x, bw=0.15, dx=None, return_fraction=True)\n",
    "\n",
    "def find_intensity_mode(x):\n",
    "    return find_mode(x, bw=40) # 40 photoelectrons sliding-window\n",
    "\n",
    "# Average RA, asumed to be in degrees\n",
    "def ra_mean(ra):\n",
    "    cosra = np.cos(ra*u.deg)\n",
    "    sinra = np.sin(ra*u.deg)\n",
    "\n",
    "    meanra = np.arctan2(sinra.mean(), cosra.mean())\n",
    "    if meanra < 0:\n",
    "        meanra += 2*np.pi*u.rad\n",
    "\n",
    "    return meanra.to_value(u.deg)"
   ]
  },
  {
   "cell_type": "code",
   "execution_count": null,
   "id": "76177f11",
   "metadata": {},
   "outputs": [],
   "source": [
    "run_span = cis['runnumber'].max() - cis['runnumber'].min() + 1\n",
    "runmin = cis['runnumber'].min() - 0.5\n",
    "runmax = cis['runnumber'].max() + 0.5"
   ]
  },
  {
   "cell_type": "markdown",
   "id": "e1132089",
   "metadata": {},
   "source": [
    "## Compute more run-wise quantities, needed to apply the data selection cuts:"
   ]
  },
  {
   "cell_type": "code",
   "execution_count": null,
   "id": "c6083edd",
   "metadata": {},
   "outputs": [],
   "source": [
    "nonan = ~np.isnan(cis['ZD_corrected_cosmics_rate_at_422_pe'])\n",
    "mean_R422, bin_edges, _ = binned_statistic(cis['runnumber'][nonan], \n",
    "                                           cis['ZD_corrected_cosmics_rate_at_422_pe'][nonan], \n",
    "                                           statistic='mean', bins=run_span, range=(runmin, runmax))\n",
    "std_R422, _, _ = binned_statistic(cis['runnumber'][nonan], \n",
    "                                  cis['ZD_corrected_cosmics_rate_at_422_pe'][nonan], \n",
    "                                  statistic='std', bins=bin_edges)\n",
    "mode_R422, _, _ = binned_statistic(cis['runnumber'][nonan], \n",
    "                                   cis['ZD_corrected_cosmics_rate_at_422_pe'][nonan], \n",
    "                                   statistic=find_mode, bins=bin_edges)\n",
    "fraction_around_mode_R422, _, _ = binned_statistic(cis['runnumber'][nonan], \n",
    "                                                   cis['ZD_corrected_cosmics_rate_at_422_pe'][nonan], \n",
    "                                                   statistic=find_fraction_in_mode, bins=bin_edges)\n",
    "\n",
    "\n",
    "nonan = (cis['intensity_at_reference_rate'] < 1000) # this rempoves nans but also rare rogue values\n",
    "mean_intensity_at_reference_rate, _, _ =  binned_statistic(cis['runnumber'][nonan], \n",
    "                                                           cis['intensity_at_reference_rate'][nonan], \n",
    "                                                           statistic='mean', bins=bin_edges)\n",
    "std_intensity_at_reference_rate, _, _ =  binned_statistic(cis['runnumber'][nonan], \n",
    "                                                          cis['intensity_at_reference_rate'][nonan], \n",
    "                                                          statistic='std', bins=bin_edges)\n",
    "\n",
    "mean_light_yield, _, _ = binned_statistic(cis['runnumber'][nonan], \n",
    "                                          cis['light_yield'][nonan], \n",
    "                                          statistic='mean', bins=run_span, range=(runmin, runmax))\n",
    "std_light_yield, _, _ = binned_statistic(cis['runnumber'][nonan], \n",
    "                                         cis['light_yield'][nonan], \n",
    "                                         statistic='std', bins=run_span, range=(runmin, runmax))\n",
    "\n",
    "nonan = ~np.isnan(cis['ZD_corrected_cosmics_spectral_index'])\n",
    "mean_index, _, _ = binned_statistic(cis['runnumber'][nonan], \n",
    "                                    cis['ZD_corrected_cosmics_spectral_index'][nonan], \n",
    "                                           statistic='mean', bins=run_span, range=(runmin, runmax))\n",
    "std_index, _, _ = binned_statistic(cis['runnumber'][nonan], \n",
    "                                   cis['ZD_corrected_cosmics_spectral_index'][nonan], \n",
    "                                           statistic='std', bins=run_span, range=(runmin, runmax))\n",
    "\n",
    "\n",
    "\n",
    "# Note: the P-value of the (subrun-wise) power-law fits to the intensity spectra is properly distributed \n",
    "# (uniform from 0 to 1) for practically all subruns. Note that the run-averaged P-value no longer has a \n",
    "# uniform distribution! For good runs it is a gaussuan-ish distribution around 0.5 (central limit theorem!)\n",
    "mean_fit_p_value, _, _ =  binned_statistic(cis['runnumber'][nonan], \n",
    "                                           cis['intensity_spectrum_fit_p_value'][nonan], \n",
    "                                           statistic='mean', bins=bin_edges)\n",
    "\n",
    "nonan = ~np.isnan(cis['ZD_corrected_intensity_at_half_peak_rate'])\n",
    "mean_intensity_threshold, _, _ =  binned_statistic(cis['runnumber'][nonan], \n",
    "                                                   cis['ZD_corrected_intensity_at_half_peak_rate'][nonan], \n",
    "                                                   statistic='mean', bins=bin_edges)\n",
    "std_intensity_threshold, _, _ =  binned_statistic(cis['runnumber'][nonan], \n",
    "                                                  cis['ZD_corrected_intensity_at_half_peak_rate'][nonan], \n",
    "                                                  statistic='std', bins=bin_edges)\n",
    "\n",
    "nonan = ~np.isnan(cis['intensity_at_peak_rate'])\n",
    "# NOTE: THE INTENSITIES AT PEAK RATE ARE NOT ZD-CORRECTED! THIS IS BECAUSE WE DO NOT USE IT FOR THE \n",
    "# QUALITY SELECTION, BUT ONLY TO ESTIMATE WHAT INTENSITY CUT MAY BE REASONABLE TO USE IN LATER ANALYSIS!\n",
    "mean_intensity_at_peak_rate, _, _ =  binned_statistic(cis['runnumber'][nonan], \n",
    "                                                      cis['intensity_at_peak_rate'][nonan], \n",
    "                                                      statistic='mean', bins=bin_edges)\n",
    "std_intensity_at_peak_rate, _, _ =  binned_statistic(cis['runnumber'][nonan], \n",
    "                                                  cis['intensity_at_peak_rate'][nonan], \n",
    "                                                  statistic='std', bins=bin_edges)\n",
    "\n",
    "\n",
    "\n",
    "mean_ra, _, _  = binned_statistic(cis['runnumber'], cis['ra_tel'], statistic=ra_mean, bins=bin_edges)\n",
    "mean_dec, _, _ = binned_statistic(cis['runnumber'], cis['dec_tel'], statistic='mean', bins=bin_edges)\n",
    "std_dec, _, _ = binned_statistic(cis['runnumber'], cis['dec_tel'], statistic='std', bins=bin_edges)\n",
    "# We do not compute std_ra - it is not totally straightforward because of 0=360 deg...\n",
    "\n",
    "mean_coszd, _, _ = binned_statistic(cis['runnumber'], cis['cos_zenith'], statistic=ra_mean, bins=bin_edges)\n",
    "\n",
    "nonan = ~np.isnan(cis['diffuse_nsb_std'])\n",
    "mean_diffuse_nsb_std, _ , _ = binned_statistic(cis['runnumber'][nonan], \n",
    "                                               cis['diffuse_nsb_std'][nonan], \n",
    "                                               statistic='mean', bins=bin_edges)\n",
    "\n",
    "\n",
    "nsubruns, _ = np.histogram(cis['runnumber'], bins=bin_edges)\n",
    "run_exists = nsubruns>0\n",
    "\n",
    "# NOTE: some \"All-NaN slice warnings may appear, because of (rare) really bad data\""
   ]
  },
  {
   "cell_type": "code",
   "execution_count": null,
   "id": "02b7ebda",
   "metadata": {},
   "outputs": [],
   "source": [
    "# Development NOTE, AM, TBF?\n",
    "#\n",
    "# Applying cuts in mean values through a run (of subrun-wise-computed quantities) somehow \"favours\" long runs. \n",
    "# The spread of the mean values will decrease as 1/sqrt(N_subruns), so all other thing being equal,\n",
    "# a short run has a smaller chance of surviving cuts. Anyway, short runs are often short because of various \n",
    "# issues, so probably this is not a big deal!\n",
    "#"
   ]
  },
  {
   "cell_type": "code",
   "execution_count": null,
   "id": "16ce2f7b",
   "metadata": {},
   "outputs": [],
   "source": [
    "# Just to make sure the same number of subruns are present \n",
    "assert((nsubruns>0).sum() == max_lsc.size)"
   ]
  },
  {
   "cell_type": "code",
   "execution_count": null,
   "id": "527228b7",
   "metadata": {},
   "outputs": [],
   "source": [
    "# Remove \"empty entries\" (i.e. removes run numbers which are not in loaded sample,\n",
    "# e.g. because do not correspond to sky runs)\n",
    "\n",
    "mean_R422 = mean_R422[run_exists]\n",
    "std_R422  = std_R422[run_exists]\n",
    "mode_R422 = mode_R422[run_exists]\n",
    "mean_intensity_at_reference_rate = mean_intensity_at_reference_rate[run_exists]\n",
    "std_intensity_at_reference_rate = std_intensity_at_reference_rate[run_exists]\n",
    "fraction_around_mode_R422 = fraction_around_mode_R422[run_exists]\n",
    "mean_light_yield = mean_light_yield[run_exists]\n",
    "std_light_yield = std_light_yield[run_exists]\n",
    "mean_index = mean_index[run_exists]\n",
    "std_index = std_index[run_exists]\n",
    "mean_intensity_threshold = mean_intensity_threshold[run_exists]\n",
    "std_intensity_threshold = std_intensity_threshold[run_exists]\n",
    "mean_intensity_at_peak_rate = mean_intensity_at_peak_rate[run_exists]\n",
    "std_intensity_at_peak_rate = std_intensity_at_peak_rate[run_exists]\n",
    "mean_ra = mean_ra[run_exists]\n",
    "mean_dec = mean_dec[run_exists]\n",
    "std_dec = std_dec[run_exists]\n",
    "mean_coszd = mean_coszd[run_exists]\n",
    "mean_diffuse_nsb_std = mean_diffuse_nsb_std[run_exists]\n",
    "mean_fit_p_value = mean_fit_p_value[run_exists]\n",
    "nsubruns = nsubruns[run_exists]"
   ]
  },
  {
   "cell_type": "code",
   "execution_count": null,
   "id": "7d25d9ae",
   "metadata": {},
   "outputs": [],
   "source": [
    "# Define here all the selection masks using the values set by the user above.\n",
    "\n",
    "interleaved_ok_selection = np.array(runlist.size*[True]) \n",
    "\n",
    "if require_interleaved_flatfield:\n",
    "    interleaved_ok_selection &= (runsummary['num_flatfield'] > 0).to_numpy()\n",
    "if require_interleaved_pedestals:\n",
    "    interleaved_ok_selection &= (runsummary['num_pedestals'] > 0).to_numpy()\n",
    "# interleaved_ok means just that some events were identified as interleaved FF and pedestal!\n",
    "    \n",
    "telescope_pointing = SkyCoord(ra=mean_ra*u.deg, dec=mean_dec*u.deg)\n",
    "\n",
    "skyregion_selection = np.array(runlist.size*[True]) # All Sky, if no source selection\n",
    "if source_coordinates != None:\n",
    "    angular_distance = source_coordinates.separation(telescope_pointing)\n",
    "    skyregion_selection = (angular_distance > min_angle_to_source) & (angular_distance < max_angle_to_source)\n",
    "\n",
    "pointing_stability_selection = std_dec < max_pointing_dec_std # Stable pointing\n",
    "    \n",
    "maxcoszd = np.cos(min_zenith)\n",
    "mincoszd = np.cos(max_zenith)\n",
    "# Note that the zenith limit is done with the run's mean, so there will be some events beyond the limits:\n",
    "zd_selection = (mean_coszd > mincoszd) & (mean_coszd < maxcoszd)\n",
    "\n",
    "nsb_selection = mean_diffuse_nsb_std < max_diffuse_nsb_std\n",
    "\n",
    "date_selection = (rundate >= first_date) & (rundate <= last_date)\n",
    "\n",
    "# P-value for good fits is distributed uniformly between 0 and 1 (which has std dev = 1/sqrt(12)). \n",
    "# So the mean of N such quantities is distributed (for N large) approximately as a a gaussian of \n",
    "# mean 0.5 and std dev = 1/sqrt(12*N). The cut below removes runs for which the power-law fits of\n",
    "# the cosmic rays intensity spectra, dR/dI, are (in average) poor:\n",
    "p_value_selection = (mean_fit_p_value-0.5)*(12*nsubruns)**0.5 > min_mean_fit_p\n",
    "\n",
    "LS_periodogram_selection = max_lsc < max_LS_periodogram_maxamplitude\n",
    "\n",
    "drdi_index_selection = (mean_index > min_drdi_index) & (mean_index < max_drdi_index) \n",
    "\n",
    "# the dR/dI rate selection includes a condition on its stability during the run. We require a \n",
    "# minimum fraction \"min_fraction_around_mode\" (defined above) of the subruns to be within +/- 0.075 of \n",
    "# the mode. This is to identify runs with large variations (sometimes due to spurious sources of triggers,\n",
    "# like e.g. car flashes or the MAGIC LIDAR)\n",
    "drdi_rate_selection = (mean_R422 > min_drdi_at_422pe) & (fraction_around_mode_R422 > min_fraction_around_mode)\n",
    "\n",
    "intensity_threshold_selection = mean_intensity_threshold < max_intensity_at_half_peak_rate"
   ]
  },
  {
   "cell_type": "code",
   "execution_count": null,
   "id": "609bcdbe",
   "metadata": {},
   "outputs": [],
   "source": [
    "fig = plt.figure(figsize=(10, 15))\n",
    "\n",
    "\n",
    "fig.add_subplot(5, 2, 1)\n",
    "# Pointing stability\n",
    "cc, bb, _ = plt.hist(std_dec, bins=250, range=(0,0.05), label='All data',\n",
    "                    log=True, color='lightgrey', density=True)\n",
    "plt.hist(std_dec[interleaved_ok_selection & skyregion_selection & date_selection], bins=bb,\n",
    "         label='Runs for selected\\n source & dates',\n",
    "         log=True, density=True, histtype='step')\n",
    "\n",
    "plt.plot([max_pointing_dec_std, max_pointing_dec_std], [0, cc.max()], '--', label='Maximum allowed', \n",
    "         color='red')\n",
    "plt.xlabel('Declination std dev within run (degrees)')\n",
    "plt.ylabel('number of runs (normalized)')\n",
    "plt.legend()\n",
    "\n",
    "\n",
    "fig.add_subplot(5, 2, 2)\n",
    "cc, bb, _ = plt.hist(np.rad2deg(np.arccos(mean_coszd)), bins=180, range=(0,90), label='All data',\n",
    "                     color='lightgrey', density=True)\n",
    "\n",
    "plt.hist(np.rad2deg(np.arccos(mean_coszd))[interleaved_ok_selection & skyregion_selection & date_selection], \n",
    "         bins=bb, label='Runs for selected\\n source & dates',\n",
    "         density=True, histtype='step')\n",
    "\n",
    "plt.plot([max_zenith.to_value(u.deg), max_zenith.to_value(u.deg)], \n",
    "         [0, cc.max()], '--', label='Maximum allowed', color='red')\n",
    "plt.plot([min_zenith.to_value(u.deg), min_zenith.to_value(u.deg)], \n",
    "         [0, cc.max()], '--', label='Minimum allowed', color='green')\n",
    "\n",
    "plt.xlabel('Zenith angle (degrees)')\n",
    "plt.ylabel('number of runs (normalized)')\n",
    "plt.legend()\n",
    "\n",
    "\n",
    "fig.add_subplot(5, 2, 3)\n",
    "cc, bb, _ = plt.hist(mean_diffuse_nsb_std, bins=200, range=(0,10), label='All data',\n",
    "                     color='lightgrey', density=True)\n",
    "\n",
    "plt.hist(mean_diffuse_nsb_std[interleaved_ok_selection & skyregion_selection & date_selection], bins=bb,\n",
    "         label='Runs for selected\\n source & dates',\n",
    "         density=True, histtype='step')\n",
    "\n",
    "plt.plot([max_diffuse_nsb_std, max_diffuse_nsb_std], \n",
    "         [0, cc.max()], '--', label='Maximum allowed', color='red')\n",
    "plt.xlabel('Diffuse NSB std dev (p.e.)')\n",
    "plt.ylabel('number of runs (normalized)')\n",
    "plt.legend()\n",
    "\n",
    "fig.add_subplot(5, 2, 4)\n",
    "cc, bb, _ = plt.hist((mean_fit_p_value-0.5)*(12*nsubruns)**0.5, \n",
    "                     bins=150, range=(-6,9), label='All data',\n",
    "                     color='lightgrey', density=True)\n",
    "plt.hist(((mean_fit_p_value-0.5)*(12*nsubruns)**0.5)[interleaved_ok_selection & \n",
    "                                                     skyregion_selection & date_selection], \n",
    "         bins=bb, label='Runs for selected\\n source & dates',\n",
    "         density=True, histtype='step')\n",
    "plt.plot([min_mean_fit_p, min_mean_fit_p], \n",
    "         [0, cc.max()], '--', label='Minimum allowed', color='green')\n",
    "plt.xlabel('(mean_dR/dI_fit_P_value-0.5)/sqrt(12*nsubruns)')\n",
    "plt.ylabel('number of runs (normalized)')\n",
    "plt.legend()\n",
    "\n",
    "\n",
    "fig.add_subplot(5, 2, 5)\n",
    "cc, bb, _ = plt.hist(mean_R422, bins=200, range=(0,5), label='All data',\n",
    "                     color='lightgrey', density=True)\n",
    "\n",
    "plt.hist(mean_R422[interleaved_ok_selection & skyregion_selection & date_selection], bins=bb,\n",
    "         label='Runs for selected\\n source & dates',\n",
    "         density=True, histtype='step')\n",
    "\n",
    "plt.plot([min_drdi_at_422pe, min_drdi_at_422pe], \n",
    "         [0, cc.max()], '--', label='Minimum allowed', color='green')\n",
    "plt.xlabel('dR/dI cosmics rate at 422 p.e. (evts/s/p.e.)')\n",
    "plt.ylabel('number of runs (normalized)')\n",
    "plt.legend()\n",
    "\n",
    "\n",
    "fig.add_subplot(5, 2, 6)\n",
    "cc, bb, _ = plt.hist(fraction_around_mode_R422, bins=200, range=(0,1), \n",
    "                     label='All data', color='lightgrey', density=True)\n",
    "plt.hist(fraction_around_mode_R422[interleaved_ok_selection & skyregion_selection & date_selection], bins=bb,\n",
    "         label='Runs for selected\\n source & dates', density=True, histtype='step')\n",
    "\n",
    "plt.plot([min_fraction_around_mode, min_fraction_around_mode],\n",
    "         [0, cc.max()], '--', label='Minimum allowed', color='green')\n",
    "plt.xlabel('Fraction of dR/dI values around the mode for the run')\n",
    "plt.ylabel('number of runs (normalized)')\n",
    "plt.legend()\n",
    "\n",
    "\n",
    "\n",
    "fig.add_subplot(5, 2, 7)\n",
    "cc, bb, _ = plt.hist(mean_index, bins=200, range=(-3,0), label='All data',\n",
    "                     color='lightgrey', density=True)\n",
    "\n",
    "plt.hist(mean_index[interleaved_ok_selection & skyregion_selection & date_selection], bins=bb,\n",
    "         label='Runs for selected\\n source & dates',\n",
    "         density=True, histtype='step')\n",
    "\n",
    "plt.plot([min_drdi_index, min_drdi_index], \n",
    "         [0, cc.max()], '--', label='Minimum allowed', color='green')\n",
    "plt.plot([max_drdi_index, max_drdi_index], \n",
    "         [0, cc.max()], '--', label='Maximum allowed', color='red')\n",
    "plt.xlabel('dR/dI cosmics rate power index at 422 p.e.')\n",
    "plt.ylabel('number of runs (normalized)')\n",
    "plt.legend()\n",
    "\n",
    "\n",
    "fig.add_subplot(5, 2, 8)\n",
    "cc, bb, _ = plt.hist(np.log10(max_lsc), bins=100, range=(-6,0), label='All data',\n",
    "                     color='lightgrey', density=True)\n",
    "plt.hist(np.log10(max_lsc)[interleaved_ok_selection & skyregion_selection & date_selection], bins=bb,\n",
    "         label='Runs for selected\\n source & dates',\n",
    "         density=True, histtype='step')\n",
    "plt.plot([np.log10(max_LS_periodogram_maxamplitude), \n",
    "          np.log10(max_LS_periodogram_maxamplitude)], \n",
    "         [0, cc.max()], '--', label='Maximum allowed', color='red')\n",
    "plt.xlabel('Log10(max amplitude in LS periodogram)')\n",
    "plt.ylabel('number of runs (normalized)')\n",
    "plt.legend()\n",
    "\n",
    "fig.add_subplot(5, 2, 9)\n",
    "cc, _, _ = plt.hist(mean_intensity_threshold, \n",
    "                    bins=200, range=(0,200), label='All data',\n",
    "                    density=True, color='lightgrey')\n",
    "\n",
    "cc, _, _ = plt.hist(mean_intensity_threshold[interleaved_ok_selection & skyregion_selection & date_selection], \n",
    "                    bins=200, range=(0,200), label='Runs for selected\\n source & dates',\n",
    "                    density=True, histtype='step')\n",
    "plt.plot([max_intensity_at_half_peak_rate, max_intensity_at_half_peak_rate],\n",
    "         [0, cc.max()], '--', label='Maximum allowed', color='red')\n",
    "\n",
    "plt.grid()\n",
    "plt.xlabel('Intensity at 50% of dR/dI peak rate (mean during run) (p.e.)')\n",
    "plt.ylabel('number of runs (normalized)')\n",
    "plt.legend()\n",
    "\n",
    "fig.add_subplot(5, 2, 10)\n",
    "cc, _, _ = plt.hist(mean_intensity_at_peak_rate, \n",
    "                    bins=200, range=(0,200), label='All data', \n",
    "                    density=True, color='lightgrey')\n",
    "\n",
    "cc, _, _ = plt.hist(mean_intensity_at_peak_rate[interleaved_ok_selection & skyregion_selection & date_selection], \n",
    "                    bins=200, range=(0,200), label='Runs for selected\\n source & dates', # log=True, \n",
    "                    density=True, histtype='step')\n",
    "plt.grid()\n",
    "plt.xlabel('Intensity at dR/dI peak rate (mean during run) (p.e.)')\n",
    "plt.ylabel('number of runs (normalized)')\n",
    "plt.legend()\n",
    "\n",
    "print()\n",
    "print('The dR/dI spectrum parameters below are corrected (for each subrun) to their ZD=0 equivalent')\n",
    "print('except the intensity at the dR/dI peak rate')\n",
    "plt.tight_layout()\n",
    "plt.show()"
   ]
  },
  {
   "cell_type": "markdown",
   "id": "87f744ad",
   "metadata": {},
   "source": [
    "### In the last row of plots above we show the distribution of the (ZD-corrected) \"intensity threshold\", defined as the position of the rising edge (50% of peak) of the cosmic ray intensity spectrum, and the distribution of the intensity at which the peak is located (the latter is **not** corrected for zenith)\n",
    "\n",
    "Note that the data may be perfectly healthy even when they have a higher threshold than usual. But it is dangerous (systematic-errors-wise) to use events with intensities well below the peak, because of MC-data discrepancies (standard MC is produced such that it resembles \"optimal data\" in terms of threshold).\n",
    "\n",
    "The event-wise cut in intensity that we apply in the higher-level analyis of the low-threshold data (with say, intensity at 50% of peak rate <40 p.e.) is intensity>50 p.e. The cut should be higher (to prevent biases in flux calculations) for data with higher threshold.\n",
    "\n"
   ]
  },
  {
   "cell_type": "markdown",
   "id": "d1a9e9ec",
   "metadata": {},
   "source": [
    "## Print some run selection statistics"
   ]
  },
  {
   "cell_type": "code",
   "execution_count": null,
   "id": "8d3862e6",
   "metadata": {},
   "outputs": [],
   "source": [
    "print('\\nNumber of runs (% is w.r.t. those in Sky region & zenith range):\\n')\n",
    "starting_nruns = (date_selection & skyregion_selection).sum()\n",
    "print('    In the requested Sky region and range of dates:\\t', starting_nruns)\n",
    "\n",
    "nruns_within_zdrange = (date_selection & skyregion_selection & zd_selection).sum()\n",
    "print('  + zenith in requested range:\\t\\t\\t\\t', nruns_within_zdrange)\n",
    "\n",
    "nruns_nsb_ok = (date_selection & skyregion_selection & zd_selection &\n",
    "                nsb_selection).sum()\n",
    "print('  + NSB in requested range:\\t\\t\\t\\t', nruns_nsb_ok,\n",
    "      f'({nruns_nsb_ok/nruns_within_zdrange*100:.1f}%)\\n')\n",
    "\n",
    "\n",
    "nruns_interleaved_ok = (date_selection & skyregion_selection & zd_selection &\n",
    "                        nsb_selection & interleaved_ok_selection).sum()\n",
    "print('  + FF and pedestal interleaved events are present:\\t', nruns_interleaved_ok,\n",
    "      f'({nruns_interleaved_ok/nruns_within_zdrange*100:.1f}%)')\n",
    "\n",
    "nruns_stable_pointing = (date_selection & skyregion_selection & zd_selection &\n",
    "                         nsb_selection & interleaved_ok_selection & \n",
    "                         pointing_stability_selection).sum()\n",
    "print('  + Stable pointing:\\t\\t\\t\\t\\t', nruns_stable_pointing,\n",
    "      f'({nruns_stable_pointing/nruns_within_zdrange*100:.1f}%)')\n",
    "\n",
    "nruns_fit_p_value_ok = (date_selection & skyregion_selection & zd_selection &\n",
    "                        nsb_selection & interleaved_ok_selection & \n",
    "                        pointing_stability_selection &\n",
    "                        p_value_selection).sum()\n",
    "print('  + dR/dI fit P-value ok:\\t\\t\\t\\t', nruns_fit_p_value_ok,\n",
    "      f'({nruns_fit_p_value_ok/nruns_within_zdrange*100:.1f}%)')\n",
    "\n",
    "nruns_LS_periodogram_ok = (date_selection & skyregion_selection & zd_selection &\n",
    "                           nsb_selection & interleaved_ok_selection & \n",
    "                           pointing_stability_selection &\n",
    "                           p_value_selection & LS_periodogram_selection).sum()\n",
    "print('  + dR/dI LS periodogram ok:\\t\\t\\t\\t', nruns_LS_periodogram_ok,\n",
    "      f'({nruns_LS_periodogram_ok/nruns_within_zdrange*100:.1f}%)')\n",
    "\n",
    "nruns_drdi_index_ok = (date_selection & skyregion_selection & zd_selection &\n",
    "                       nsb_selection & interleaved_ok_selection & \n",
    "                       pointing_stability_selection & \n",
    "                       p_value_selection & LS_periodogram_selection &\n",
    "                       drdi_index_selection).sum()\n",
    "print('  + dR/dI index ok:\\t\\t\\t\\t\\t', nruns_drdi_index_ok,\n",
    "      f'({nruns_drdi_index_ok/nruns_within_zdrange*100:.1f}%)')\n",
    "\n",
    "nruns_drdi_rate_ok = (date_selection & skyregion_selection & zd_selection &\n",
    "                      nsb_selection & interleaved_ok_selection & \n",
    "                      pointing_stability_selection & \n",
    "                      p_value_selection & LS_periodogram_selection &\n",
    "                      drdi_index_selection & drdi_rate_selection).sum()\n",
    "\n",
    "print('  + dR/dI rate ok:\\t\\t\\t\\t\\t', nruns_drdi_rate_ok,\n",
    "      f'({nruns_drdi_rate_ok/nruns_within_zdrange*100:.1f}%)')\n",
    "\n",
    "nruns_threshold_ok = (date_selection & skyregion_selection & zd_selection &\n",
    "                      nsb_selection & interleaved_ok_selection & \n",
    "                      pointing_stability_selection & \n",
    "                      p_value_selection & LS_periodogram_selection &\n",
    "                      drdi_index_selection & drdi_rate_selection &\n",
    "                      intensity_threshold_selection).sum()\n",
    "\n",
    "print('  + intensity threshold ok:\\t\\t\\t\\t', nruns_threshold_ok,\n",
    "      f'({nruns_threshold_ok/nruns_within_zdrange*100:.1f}%)')\n",
    "\n",
    "print('\\nNote: about 64% of all *dark-night* observations within ZD<80 deg fulfill all quality cuts.')\n",
    "print('(in the stable, good-quality period 20221118 - 20230214, 92% of *dark-night* observations within ZD<80 deg do).')"
   ]
  },
  {
   "cell_type": "code",
   "execution_count": null,
   "id": "cdcd283b",
   "metadata": {},
   "outputs": [],
   "source": [
    "# All selections but the dR/dI rate cuts:\n",
    "mask_no_drdi_rate_cut = (date_selection & \n",
    "                         skyregion_selection & \n",
    "                         zd_selection & \n",
    "                         nsb_selection &\n",
    "                         interleaved_ok_selection & \n",
    "                         pointing_stability_selection & \n",
    "                         p_value_selection &\n",
    "                         LS_periodogram_selection &\n",
    "                         drdi_index_selection &\n",
    "                         intensity_threshold_selection)"
   ]
  },
  {
   "cell_type": "code",
   "execution_count": null,
   "id": "8662b3bd",
   "metadata": {},
   "outputs": [],
   "source": [
    "mask = mask_no_drdi_rate_cut & drdi_rate_selection\n",
    "\n",
    "good_runs = runlist[mask]\n",
    "\n",
    "print('Selected:', mask.sum(), 'of', runlist.size, 'runs')\n",
    "\n",
    "obs_hours = runsummary['elapsed_time'][mask].sum()/3600\n",
    "\n",
    "print(f'Total observation time: {obs_hours:.2f} h')"
   ]
  },
  {
   "cell_type": "code",
   "execution_count": null,
   "id": "1f8e5a99",
   "metadata": {},
   "outputs": [],
   "source": [
    "# Build a mask of selected data which works for the subrun-wise table:\n",
    "subrun_mask = np.array([True if x in good_runs else False for x in cis['runnumber']])"
   ]
  },
  {
   "cell_type": "markdown",
   "id": "8daba83b",
   "metadata": {},
   "source": [
    "### Now we obtain, from the (run-wise) diffuse NSB std values, the median, and identify a few \"typical\" subruns that we can then use to find (using the script lstchain_tune_nsb) the parameters needed to tune the MC (in the DL1ab step) for later analysis\n",
    "\n",
    "Note that the NSB tuning (also called \"noise padding\") of the MC at the DL1ab analysis step (which starts with already integrated waveforms for each pixel, using a peak-search algorithm) will not work for an NSB level much higher than the one in the MC. The reason is that in such a case the peak search algorithm would often pick a random NSB fluctuation instead of the actual Cherenkov pulse, hence just adding noise to the original integrated value is not a proper way to reproduce the effect in the data.\n",
    "\n",
    "As a rule of thumb:\n",
    "* if the median NSB standard deviation in the sample (reported below) **below 1.6 p.e.** you can use the **standard MC** without tuning.\n",
    "* if it is **between 1.6 and 4 p.e.**, you can use the simple NSB tuning approach of the MC at the DL1ab level (see documentation of the script **lstchain_tune_nsb**)\n",
    "* for values **above 4 p.e.** it is better to tune the MC at the R0 to DL1 step, by adding random noise to the waveforms (i.e. before pulse integration). This has to be done using the **\"waveform_nsb_tuning\"** option in the lstchain*.json configuration file when running the R0 to DL1 step for the MC. See the script **lstchain_tune_nsb_waveform**. "
   ]
  },
  {
   "cell_type": "code",
   "execution_count": null,
   "id": "a1b32776",
   "metadata": {},
   "outputs": [],
   "source": [
    "nsb_median = np.median(mean_diffuse_nsb_std[mask])\n",
    "\n",
    "print(f'\\nMedian of the NSB standard deviation for the sample: {nsb_median:.3f} p.e.')\n",
    "if nsb_median < 1.6:\n",
    "    print('This sample can probable be analyzed properly using the standard Monte Carlo.')\n",
    "elif nsb_median < 4:\n",
    "    print('It is recommended to use NSB-tuned MC (using lstchain_tune_nsb and lstchain_dl1ab) for analyzing this sample.')\n",
    "else:\n",
    "    print('It is recommended to use MC with matching NSB (using the waveform_nsb_tuning option in the MC R0 to DL1 step).')\n",
    "\n",
    "print('\\nSubruns with NSB std dev closest to sample median:\\n')\n",
    "\n",
    "dnsb = cis['diffuse_nsb_std'].to_numpy()\n",
    "nonan = np.isfinite(dnsb)\n",
    "eltime = cis['elapsed_time'].to_numpy() \n",
    "goodtime = eltime > np.nanmedian(eltime) # Just to avoid too short subruns (e.g. at the endf of a run)\n",
    "\n",
    "argsrt = np.argsort(np.abs(dnsb[subrun_mask & nonan & goodtime] - nsb_median))\n",
    "\n",
    "for iarg in argsrt[:5]:\n",
    "    ymd = cis['yyyymmdd'][subrun_mask & nonan & goodtime].to_numpy()[iarg]\n",
    "    rn = cis['runnumber'][subrun_mask & nonan & goodtime].to_numpy()[iarg]\n",
    "    srn = cis['subrun'][subrun_mask & nonan & goodtime].to_numpy()[iarg]\n",
    "    print(f'{ymd}   Run{rn:05d}.{srn:04d}   NSB std dev: {dnsb[subrun_mask & nonan & goodtime][iarg]:.3f} p.e.')"
   ]
  },
  {
   "cell_type": "markdown",
   "id": "41884dfd",
   "metadata": {},
   "source": [
    "## Plot the evolution of dR/dI and the \"light yield\""
   ]
  },
  {
   "cell_type": "code",
   "execution_count": null,
   "id": "f8e78cf1",
   "metadata": {},
   "outputs": [],
   "source": [
    "plt.figure(figsize=(12, 3.5))\n",
    "plt.scatter(runlist, mean_R422, s=2, color='lightgrey', label='All data')\n",
    "plt.scatter(runlist[mask], mean_R422[mask], s=2, label='Selected runs')\n",
    "\n",
    "plt.scatter(runlist[(~mask) & mask_no_drdi_rate_cut], mean_R422[(~mask) & mask_no_drdi_rate_cut], s=2, \n",
    "            label='Runs which failed dR/dI rate selection')\n",
    "\n",
    "plt.xlabel('Run number')\n",
    "plt.ylabel('dR/dI cosmics rate at 422 p.e. (evts/s/p.e.)')\n",
    "plt.ylim(0, 4.5)\n",
    "plt.legend()\n",
    "plt.grid()\n",
    "plt.show()"
   ]
  },
  {
   "cell_type": "code",
   "execution_count": null,
   "id": "4f306f3e",
   "metadata": {},
   "outputs": [],
   "source": [
    "#\n",
    "# If you need to produce a plot vs. the actual date, and not run number, here is an example:\n",
    "# (Uncomment code below to test)\n",
    "#\n",
    "\n",
    "# runtime = np.array([runsummary['time'][runsummary['runnumber']==rr].array[0] for rr in runlist])\n",
    "\n",
    "# from datetime import datetime\n",
    "# utctime = [datetime.utcfromtimestamp(x) for x in runtime]\n",
    "# plt.figure(figsize=(12, 3.5))\n",
    "# plt.scatter(utctime, mean_R422, s=2, color='lightgrey', label='All data')\n",
    "\n",
    "# utctime = [datetime.utcfromtimestamp(x) for x in runtime[mask]]\n",
    "# plt.scatter(utctime, mean_R422[mask], s=2, label='Selected runs')\n",
    "\n",
    "\n",
    "# utctime = [datetime.utcfromtimestamp(x) for x in runtime[(~mask) & mask_no_drdi_rate_cut]]\n",
    "# plt.scatter(utctime, mean_R422[(~mask) & mask_no_drdi_rate_cut], s=2, \n",
    "#             label='Runs which failed dR/dI rate selection')\n",
    "\n",
    "# plt.ylabel('dR/dI cosmics rate at 422 p.e. (evts/s/p.e.)')\n",
    "# plt.ylim(0, 4.5)\n",
    "# plt.legend()\n",
    "# plt.grid()\n",
    "# plt.show()"
   ]
  },
  {
   "cell_type": "code",
   "execution_count": null,
   "id": "88751c31",
   "metadata": {},
   "outputs": [],
   "source": [
    "plt.figure(figsize=(12, 3.5))\n",
    "plt.scatter(runlist, mean_light_yield, s=2, color='lightgrey', label='All data')\n",
    "plt.scatter(runlist[mask], mean_light_yield[mask], s=2, label='Selected runs')\n",
    "\n",
    "plt.scatter(runlist[(~mask) & mask_no_drdi_rate_cut], mean_light_yield[(~mask) & mask_no_drdi_rate_cut], s=2, \n",
    "            label='Runs which failed dR/dI rate selection')\n",
    "\n",
    "plt.xlabel('Run number')\n",
    "plt.ylabel('Relative light yield')\n",
    "plt.ylim(0, 2)\n",
    "plt.legend()\n",
    "plt.grid()\n",
    "plt.show()"
   ]
  },
  {
   "cell_type": "code",
   "execution_count": null,
   "id": "aa5cb63f",
   "metadata": {},
   "outputs": [],
   "source": [
    "# Show for (at most) 10 of the selected spectra the evolution of dR/dI through the run:\n",
    "step = 1\n",
    "if mask.sum() > 10:\n",
    "    step = int(mask.sum()//10)\n",
    "\n",
    "for jj in runlist[mask][::step]:\n",
    "    plt.figure(figsize=(12, 3))\n",
    "    print('Run:', jj) \n",
    "    print(f'    Run-averaged dR/dI @ 422 p.e. = {mean_R422[runlist==jj][0]:.3f}')\n",
    "    print(f'    Fraction of subruns around dR/dI mode = {fraction_around_mode_R422[runlist==jj][0]:.3f}'\n",
    "          f' (minimum allowed: {min_fraction_around_mode})')\n",
    "    print(f'    max_lsc: {max_lsc[runlist==jj][0]:.2e}')\n",
    "\n",
    "    xt = cis['time'][cis['runnumber']==jj] - cis['time'][cis['runnumber']==jj].min()\n",
    "    plt.plot(xt,\n",
    "             cis['ZD_corrected_cosmics_rate_at_422_pe'][cis['runnumber']==jj], \n",
    "             label='dR/dI @ 422 p.e.')\n",
    "\n",
    "    plt.plot([xt.min(), xt.max()], [min_drdi_at_422pe, min_drdi_at_422pe], linestyle='--', \n",
    "             linewidth=1, color='tab:blue', label='Minimum allowed run average')\n",
    "    \n",
    "    plt.plot(xt,\n",
    "             -cis['ZD_corrected_cosmics_spectral_index'][cis['runnumber']==jj], \n",
    "             label='dR/dI abs(PL index) @ 422 p.e.')\n",
    "\n",
    "#     plt.scatter(xt,\n",
    "#                 cis['intensity_spectrum_fit_p_value'][cis['runnumber']==jj], \n",
    "#                 label='Fit P-value', color='tab:orange')\n",
    "    plt.grid()\n",
    "\n",
    "    plt.ylim(0, 3)\n",
    "    plt.xlabel('time (s)')\n",
    "    plt.legend()\n",
    "    plt.show()\n",
    "    print()\n"
   ]
  },
  {
   "cell_type": "code",
   "execution_count": null,
   "id": "d4d31aa8",
   "metadata": {},
   "outputs": [],
   "source": [
    "plt.figure(figsize=(12, 3))\n",
    "\n",
    "# count number of dR/dI-wise \"anomalous\" subruns in selected sample:\n",
    "drdi_high = 2\n",
    "too_high = 0\n",
    "drdi_low = 1.4\n",
    "too_low = 0\n",
    "total_nsubruns = 0\n",
    "\n",
    "for jj in runlist[mask]:\n",
    "    xt = cis['time'][cis['runnumber']==jj] - cis['time'][cis['runnumber']==jj].min()\n",
    "    plt.plot(xt,\n",
    "             cis['ZD_corrected_cosmics_rate_at_422_pe'][cis['runnumber']==jj])\n",
    "    too_high += (cis['ZD_corrected_cosmics_rate_at_422_pe'][cis['runnumber']==jj] > drdi_high).sum()\n",
    "    too_low  += (cis['ZD_corrected_cosmics_rate_at_422_pe'][cis['runnumber']==jj] < drdi_low).sum()\n",
    "    total_nsubruns += (cis['runnumber']==jj).sum()\n",
    "\n",
    "plt.ylim(0, 3)\n",
    "#plt.xlim(0,1200)\n",
    "plt.xlabel('time (s)')\n",
    "plt.ylabel('dR/dI at 422 p.e.')\n",
    "plt.grid()\n",
    "plt.show()\n",
    "\n",
    "print('Total number of subruns in selected sample:', total_nsubruns)\n",
    "print('Do not panic about the ugly-looking spikes, they are rare:')\n",
    "print(too_high, f'subruns ({100*too_high/total_nsubruns:.3f}%)',' have dR/dI @ 422 larger than', drdi_high)\n",
    "print(too_low,  f'subruns ({100*too_low/total_nsubruns:.3f}%)', ' have dR/dI @ 422 smaller than', drdi_low)\n"
   ]
  },
  {
   "cell_type": "markdown",
   "id": "1f746b84",
   "metadata": {},
   "source": [
    "## Now we test the stability of the dR/dI - related parameters\n",
    "Note that the gaussian fits attempted below on the selected data (both for the dR/dI values, the corresponding intensities at a reference rate, and the derived \"light yield\") are not necessarily good. Even after the selection you may have periods with different performance, which result in non-gaussian distributions."
   ]
  },
  {
   "cell_type": "code",
   "execution_count": null,
   "id": "59dfbd75",
   "metadata": {},
   "outputs": [],
   "source": [
    "from scipy.stats.distributions import norm\n",
    "from scipy.optimize import curve_fit\n",
    "def gaus(x, a, b, c):\n",
    "    return a*norm.pdf(x, b, c)\n",
    "\n",
    "fig = plt.figure(figsize=(12,4))\n",
    "fig.add_subplot(1, 2, 1)\n",
    "cc, bb = np.histogram(cis['ZD_corrected_cosmics_rate_at_422_pe'][subrun_mask], bins=200, range=(0.5, 2.5))\n",
    "xx = 0.5*(bb[1:]+bb[:-1])\n",
    "plt.errorbar(xx, cc, yerr=cc**0.5, fmt='o', markersize=1)\n",
    "\n",
    "min_content_for_fit = cc.max()/10 # to fit the central part of the distributions\n",
    "\n",
    "# NOTE: you may have to play with starting parameters if fit does not converge:\n",
    "params, _ = curve_fit(gaus, xx[cc>min_content_for_fit], cc[cc>min_content_for_fit], \n",
    "                      sigma=cc[cc>min_content_for_fit]**0.5, \n",
    "                      p0=[100, 1.7, 0.1])\n",
    "print(params)\n",
    "plt.plot(xx, gaus(xx, params[0], params[1], params[2]), linewidth=1,\n",
    "         label=f'mean: {params[1]:.4f}, std: {params[2]:.4f}\\n Relative std dev: {params[2]/params[1]:.4f}')\n",
    "\n",
    "plt.legend()\n",
    "plt.xlabel('dR/dI at 422 p.e.')\n",
    "plt.ylabel('number of subruns')\n",
    "plt.grid()\n",
    "\n",
    "fig.add_subplot(1, 2, 2)\n",
    "cc, bb = np.histogram(cis['intensity_at_reference_rate'][subrun_mask], bins=200, range=(350, 550))\n",
    "xx = 0.5*(bb[1:]+bb[:-1])\n",
    "plt.errorbar(xx, cc, yerr=cc**0.5, fmt='o', markersize=1)\n",
    "\n",
    "# NOTE: you may have to play with starting parameters if fit does not converge:\n",
    "params, _ = curve_fit(gaus, xx[cc>min_content_for_fit], cc[cc>min_content_for_fit], \n",
    "                      sigma=cc[cc>min_content_for_fit]**0.5, \n",
    "                      p0=[100, np.nanmedian(cis['intensity_at_reference_rate'][subrun_mask]), 2])\n",
    "\n",
    "plt.plot(xx, gaus(xx, params[0], params[1], params[2]), linewidth=1,\n",
    "         label=f'mean: {params[1]:.4f}, std: {params[2]:.4f}\\n Relative std dev: {params[2]/params[1]:.4f}')\n",
    "\n",
    "plt.legend()\n",
    "plt.xlabel('Intensity at reference rate (p.e.)')\n",
    "plt.ylabel('number of subruns')\n",
    "plt.grid()\n",
    "\n",
    "\n",
    "plt.show()"
   ]
  },
  {
   "cell_type": "code",
   "execution_count": null,
   "id": "e44802fd",
   "metadata": {},
   "outputs": [],
   "source": [
    "fig = plt.figure(figsize=(12,4))\n",
    "\n",
    "# cc, bb = np.histogram(((cis['intensity_at_reference_rate']/422)**\n",
    "#                        (cis['ZD_corrected_cosmics_spectral_index']/\n",
    "#                         (1+cis['ZD_corrected_cosmics_spectral_index'])))[subrun_mask], \n",
    "#                       bins=200, range=(0.7, 1.3))\n",
    "\n",
    "cc, bb = np.histogram(cis['light_yield'][subrun_mask], \n",
    "                      bins=200, range=(0.7, 1.3))\n",
    "\n",
    "xx = 0.5*(bb[1:]+bb[:-1])\n",
    "plt.errorbar(xx, cc, yerr=cc**0.5, fmt='o', markersize=1)\n",
    "\n",
    "# NOTE: you may have to play with starting parameters if fit does not converge:\n",
    "params, _ = curve_fit(gaus, xx[cc>min_content_for_fit], cc[cc>min_content_for_fit], \n",
    "                      sigma=cc[cc>min_content_for_fit]**0.5, \n",
    "                       p0=[100, 0, 1])\n",
    "\n",
    "plt.plot(xx, gaus(xx, params[0], params[1], params[2]), linewidth=1,\n",
    "         label=f'mean: {params[1]:.4f}\\nstd: {params[2]:.4f}')\n",
    "         #label=f'mean: {params[1]:.4f}, std: {params[2]:.4f}\\n Relative std dev: {params[2]/params[1]:.4f}')\n",
    "\n",
    "plt.legend()\n",
    "plt.xlabel('Relative light yield')\n",
    "plt.ylabel('number of subruns')\n",
    "plt.grid()\n",
    "\n",
    "\n",
    "plt.show()"
   ]
  },
  {
   "cell_type": "markdown",
   "id": "b22537c6",
   "metadata": {},
   "source": [
    "If we interpret variations in \"Relative light yield\" as variations in atmospheric transmissivity (folded with whatever other factors determining the total amount of collected light, e.g. the telescope throughput), the  std dev of the fit above gives us an idea of the stability of the light measurement throughout the sample."
   ]
  },
  {
   "cell_type": "code",
   "execution_count": null,
   "id": "806cb3c3",
   "metadata": {},
   "outputs": [],
   "source": [
    "checklist = runlist[(~mask) & mask_no_drdi_rate_cut]\n",
    "subrun_mask_lowdrdi = np.array([True if x in checklist else False for x in cis['runnumber']])"
   ]
  },
  {
   "cell_type": "code",
   "execution_count": null,
   "id": "5c61b740",
   "metadata": {},
   "outputs": [],
   "source": [
    "plt.figure(figsize=(12,6))\n",
    "\n",
    "plt.scatter([], [], facecolors='none', edgecolors='grey', \n",
    "            label='subruns in runs rejected by the dR/dI selections', s=10)\n",
    "plt.scatter([], [], color='black', \n",
    "            label='subruns in selected runs (same color within a run)', s=8)\n",
    "\n",
    "for jj in runlist[mask_no_drdi_rate_cut]:\n",
    "    plt.scatter(cis['cosmics_rate'][cis['runnumber']==jj],\n",
    "                cis['ZD_corrected_cosmics_rate_at_422_pe'][cis['runnumber']==jj], s=8, \n",
    "                facecolors='none', edgecolors='grey', linewidth=0.2)\n",
    "\n",
    "for jj in runlist[mask]:\n",
    "    plt.scatter(cis['cosmics_rate'][cis['runnumber']==jj],\n",
    "                cis['ZD_corrected_cosmics_rate_at_422_pe'][cis['runnumber']==jj], s=2)\n",
    "plt.ylim(0, 3)\n",
    "plt.legend()\n",
    "plt.xlabel('Cosmics trigger rate')\n",
    "plt.ylabel('dR/dI at 422 p.e. (events/s/p.e.)')\n",
    "plt.grid()\n",
    "plt.show()"
   ]
  },
  {
   "cell_type": "markdown",
   "id": "74301708",
   "metadata": {},
   "source": [
    "In the plot above:\n",
    "* Subruns with large cosmics trigger rate and low dR/dI values are usually those affected by car flashes or other external sources of light\n",
    "* Low trigger rate and low value of dR/dI likely indicate poor atmospheric transmissivity.\n",
    "* Low trigger rate and \"nominal\" dR/dI are simply runs taken with higher threshold (e.g. moon settings)"
   ]
  },
  {
   "cell_type": "markdown",
   "id": "ca7abe5b",
   "metadata": {},
   "source": [
    "## The cell below can be used to plot a specific run"
   ]
  },
  {
   "cell_type": "code",
   "execution_count": null,
   "id": "c688496c",
   "metadata": {},
   "outputs": [],
   "source": [
    "# Plot a specific run, to check the evolution of its dR/dI parameters\n",
    "# This may help identify e.g. if there was a spike in rates, which explains a too high value of the average \n",
    "# cosmics rate dR/dI @ 422 p.e.\n",
    "#\n",
    "# Run number:\n",
    "rr = runlist[0]\n",
    "# 11125 example of a good (=selected) run\n",
    "# 10882 example of many rate spikes\n",
    "# Comment in runbook: \n",
    "# \"busy spike. Operator Specialist cannot reach the toilet without flashing the camera.\"\n",
    "\n",
    "print('Run', rr, 'Date:', rundate[runlist==rr])\n",
    "xt = cis['time'][cis['runnumber']==rr] - cis['time'][cis['runnumber']==rr].min()\n",
    "\n",
    "plt.figure(figsize=(12, 3))\n",
    "yy = cis['cosmics_rate'][cis['runnumber']==rr]\n",
    "plt.plot(xt, yy)\n",
    "plt.ylim(yy.min()*0.5, yy.max()*1.2)\n",
    "plt.xlabel('Seconds since start of run')\n",
    "plt.ylabel('Cosmics trigger rate')\n",
    "plt.grid()\n",
    "plt.show()\n",
    "\n",
    "plt.figure(figsize=(12, 3))\n",
    "yy = cis['ZD_corrected_cosmics_rate_at_422_pe'][cis['runnumber']==rr]\n",
    "eyy = cis['ZD_corrected_delta_cosmics_rate_at_422_pe'][cis['runnumber']==rr]\n",
    "plt.errorbar(xt, yy, yerr=eyy, fmt='o', markersize=2)\n",
    "plt.plot([xt.min(), xt.max()], [min_drdi_at_422pe, min_drdi_at_422pe], linestyle='--', \n",
    "         linewidth=1, color='tab:blue', label='Minimum allowed run average')\n",
    "plt.legend()\n",
    "plt.ylim(yy.min()*0.5, yy.max()*1.2)\n",
    "plt.xlabel('Seconds since start of run')\n",
    "plt.ylabel('(ZD-corrected) dR/dI at 422 p.e.')\n",
    "plt.grid()\n",
    "plt.show()\n",
    "\n",
    "plt.figure(figsize=(12, 3.5))\n",
    "yy = cis['ZD_corrected_cosmics_spectral_index'][cis['runnumber']==rr]\n",
    "eyy = cis['delta_cosmics_spectral_index'][cis['runnumber']==rr]\n",
    "plt.errorbar(xt, yy, yerr=eyy, fmt='o', markersize=2)\n",
    "plt.ylim(yy.min()-1, yy.max()+1)\n",
    "plt.xlabel('Seconds since start of run')\n",
    "plt.ylabel('(ZD-corrected) dR/dI pwl index at 422 p.e.')\n",
    "plt.grid()\n",
    "plt.show()\n",
    "\n",
    "# We also plot the mean charge in interleaved flatfield events, this helps to see if there is\n",
    "# any problem with the calibration (for example due to a change of HV). Such a problem would \n",
    "# show up as a variation in the calibration charge - which is otherwise expected to be steady\n",
    "plt.figure(figsize=(12, 3))\n",
    "plt.plot(flatfield['subrun'][flatfield['runnumber']==rr], \n",
    "         flatfield['charge_mean'][flatfield['runnumber']==rr])\n",
    "plt.xlabel('Seconds since start of run')\n",
    "plt.ylabel('Mean flatfield charge (p.e.)')\n",
    "plt.grid()\n",
    "plt.ylim(0, 90)\n",
    "plt.show()"
   ]
  },
  {
   "cell_type": "markdown",
   "id": "f8f45a30",
   "metadata": {},
   "source": [
    "## Function to check whether a given run fulfills all selections (and if not, which ones):"
   ]
  },
  {
   "cell_type": "code",
   "execution_count": null,
   "id": "f39bd5c6",
   "metadata": {},
   "outputs": [],
   "source": [
    "mask_dict = {\"date_selection\": date_selection,\n",
    "             \"skyregion_selection\": skyregion_selection,\n",
    "             \"zd_selection\": zd_selection,\n",
    "             \"nsb_selection\": nsb_selection,\n",
    "             \"interleaved_ok_selection\": interleaved_ok_selection,\n",
    "             \"pointing_stability_selection\": pointing_stability_selection,\n",
    "             \"p_value_selection\": p_value_selection,\n",
    "             \"LS_periodogram_selection\": LS_periodogram_selection,\n",
    "             \"drdi_index_selection\": drdi_index_selection,\n",
    "             \"intensity_threshold_selection\": intensity_threshold_selection,\n",
    "             \"drdi_rate_selection\": drdi_rate_selection}\n",
    "\n",
    "def test_run(run, mask_dict=mask_dict):\n",
    "    if run not in runlist:\n",
    "        print('Run', run, 'is not known. Perhaps it is not a sky run?')\n",
    "        return\n",
    "    if run in good_runs:\n",
    "        print('Run', run, 'passes al selections!')\n",
    "        return\n",
    "    \n",
    "    print('Run', run)\n",
    "    for x in mask_dict:\n",
    "        if mask_dict[x][runlist==run][0]:\n",
    "            continue\n",
    "        print('   ', x, mask_dict[x][runlist==run])"
   ]
  },
  {
   "cell_type": "code",
   "execution_count": null,
   "id": "d7afe9e1",
   "metadata": {},
   "outputs": [],
   "source": [
    "# Example: test the first run that did not pass selections\n",
    "for rr in runlist:\n",
    "    if rr not in good_runs:\n",
    "        break\n",
    "\n",
    "test_run(rr)"
   ]
  },
  {
   "cell_type": "markdown",
   "id": "fbbd2efc",
   "metadata": {},
   "source": [
    "## Check a few of the runs that were REJECTED because of the dR/dI cuts\n",
    "\n",
    "Note: if the only issue (aside from the occasional spike) in a data run is a low mean value of the dR/dI rate at 422 p.e., and/or unstable value (smaller than required fraction of subruns around the mode), then it may be a good candidate for re-analysis via correction of the pixel-wise light values"
   ]
  },
  {
   "cell_type": "code",
   "execution_count": null,
   "id": "58c66ee4",
   "metadata": {},
   "outputs": [],
   "source": [
    "# Runs which fulfill all selections except the dR/dI rate selection\n",
    "checklist = runlist[(~mask) & mask_no_drdi_rate_cut]\n",
    "\n",
    "\n",
    "# You can also check runs that fulfill any other condition on the run-wise-averaged quantities we have \n",
    "# computed, for example:\n",
    "# checklist = runlist[max_lsc>1e-2]"
   ]
  },
  {
   "cell_type": "code",
   "execution_count": null,
   "id": "2f806fd0",
   "metadata": {},
   "outputs": [],
   "source": [
    "checklist"
   ]
  },
  {
   "cell_type": "code",
   "execution_count": null,
   "id": "70bbf5bc",
   "metadata": {},
   "outputs": [],
   "source": [
    "step = 1\n",
    "if checklist.size > 10:\n",
    "    step = int(checklist.size//10)\n",
    "\n",
    "for jj in checklist[::step]:\n",
    "    plt.figure(figsize=(12, 3))\n",
    "    test_run(jj)\n",
    "    print(f'    Run-averaged dR/dI @ 422 p.e. = {mean_R422[runlist==jj][0]:.3f}')\n",
    "    print(f'    Fraction of subruns around dR/dI mode = {fraction_around_mode_R422[runlist==jj][0]:.3f}'\n",
    "          f' (minimum allowed: {min_fraction_around_mode})')\n",
    "    print(f'    max_lsc: {max_lsc[runlist==jj][0]:.2e}')\n",
    "    \n",
    "    xt = cis['time'][cis['runnumber']==jj] - cis['time'][cis['runnumber']==jj].min()\n",
    "    plt.plot(xt,\n",
    "             cis['ZD_corrected_cosmics_rate_at_422_pe'][cis['runnumber']==jj], label='dR/dI @ 422 p.e.')\n",
    "    plt.plot([xt.min(), xt.max()], [min_drdi_at_422pe, min_drdi_at_422pe], linestyle='--', \n",
    "             linewidth=1, color='tab:blue', label='Minimum allowed run average')\n",
    "\n",
    "\n",
    "    plt.plot(xt,\n",
    "             -cis['ZD_corrected_cosmics_spectral_index'][cis['runnumber']==jj], label='dR/dI abs(PL index) @ 422 p.e.')\n",
    "\n",
    "    plt.grid()\n",
    "\n",
    "    plt.ylim(0, 3)\n",
    "    plt.xlabel('time (s)')\n",
    "    plt.legend()\n",
    "    plt.show()\n",
    "    print()\n"
   ]
  },
  {
   "cell_type": "markdown",
   "id": "bdd804a2",
   "metadata": {},
   "source": [
    "## Final list of SELECTED runs"
   ]
  },
  {
   "cell_type": "code",
   "execution_count": null,
   "id": "50fb0a71",
   "metadata": {},
   "outputs": [],
   "source": [
    "good_dates = np.unique(rundate[mask])\n",
    "\n",
    "print()\n",
    "print('Total number of runs:', good_runs.size, '(in', good_dates.size ,'nights)')\n",
    "obs_hours = runsummary['elapsed_time'][mask].sum()/3600\n",
    "print(f'Total observation time: {obs_hours:.2f} hours')\n",
    "print()\n",
    "\n",
    "for dd in good_dates:\n",
    "    print(dd)\n",
    "    print('--------')\n",
    "    print('  ', runlist[mask & (rundate==dd)])\n",
    "    print()"
   ]
  },
  {
   "cell_type": "markdown",
   "id": "6707942c",
   "metadata": {},
   "source": [
    "## List of SELECTED run-wise (i.e., merged) DL1 files\n",
    "We look into the directories listed in dl1_dirlist, if file is not found in the first one, we default to the second (currently this means use v0.10 if available, else use v0.9)"
   ]
  },
  {
   "cell_type": "code",
   "execution_count": null,
   "id": "20a210ad",
   "metadata": {},
   "outputs": [],
   "source": [
    "# dl1_dirlist contains the list of preferred DL1 directories (in order of preference)\n",
    "# Defined at the beginning.\n",
    "\n",
    "if dl1_dirlist is not None:\n",
    "    for rr in good_runs:\n",
    "        dd = rundate[runlist==rr][0]\n",
    "        for ii, dl in enumerate(dl1_dirlist):\n",
    "            dir = dl.replace('YYYYMMDD', str(dd))\n",
    "            filename = dir+f'/dl1*Run{rr:05d}.h5'\n",
    "            ff = glob.glob(filename)\n",
    "            if len(ff) > 0:\n",
    "                print(ff[0])\n",
    "                break\n",
    "            if ii == len(dl1_dirlist) - 1:\n",
    "                print('Warning: file', filename, 'not found')"
   ]
  },
  {
   "cell_type": "markdown",
   "id": "c3c0a19b",
   "metadata": {},
   "source": [
    "## List of REJECTED runs that pass all selections **except** the dR/dI rate selection:\n",
    "Those may be good candidates for data correction (e.g. via scaling the light in pixels before the cleaning)"
   ]
  },
  {
   "cell_type": "code",
   "execution_count": null,
   "id": "c6469bdf-98a0-4659-b78c-c6e958a6d4c5",
   "metadata": {},
   "outputs": [],
   "source": [
    "# Uncomment lines below to get the list (not done by default because the user might be misled into thinking\n",
    "# those are the good runs)\n",
    "#\n",
    "# not_so_bad_dates = np.unique(rundate[(~mask) & mask_no_drdi_rate_cut])\n",
    "# not_so_bad_obs_hours = runsummary['elapsed_time'][(~mask) & mask_no_drdi_rate_cut].sum()/3600\n",
    "# print()\n",
    "# print(f'Observation time: {not_so_bad_obs_hours:.2f} hours')\n",
    "# print()\n",
    "# for dd in not_so_bad_dates:\n",
    "#     print(dd)\n",
    "#     print('--------')\n",
    "#     print('  ', runlist[(~mask) & mask_no_drdi_rate_cut & (rundate==dd)])\n",
    "#     print()\n"
   ]
  },
  {
   "cell_type": "markdown",
   "id": "b29585dc-830a-4fdd-bef7-86117ccef2c7",
   "metadata": {},
   "source": [
    "## End of the list of REJECTED runs that pass all selections **except** the dR/dI rate selection"
   ]
  },
  {
   "cell_type": "code",
   "execution_count": null,
   "id": "ab483f4f-7bb8-47d6-8c75-23102e271005",
   "metadata": {},
   "outputs": [],
   "source": []
  },
  {
   "cell_type": "code",
   "execution_count": null,
   "id": "0101cc95",
   "metadata": {},
   "outputs": [],
   "source": []
  }
 ],
 "metadata": {
  "kernelspec": {
   "display_name": "Python 3 (ipykernel)",
   "language": "python",
   "name": "python3"
  },
  "language_info": {
   "codemirror_mode": {
    "name": "ipython",
    "version": 3
   },
   "file_extension": ".py",
   "mimetype": "text/x-python",
   "name": "python",
   "nbconvert_exporter": "python",
   "pygments_lexer": "ipython3",
   "version": "3.11.11"
  }
 },
 "nbformat": 4,
 "nbformat_minor": 5
}
